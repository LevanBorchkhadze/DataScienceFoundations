{
 "cells": [
  {
   "cell_type": "markdown",
   "metadata": {},
   "source": [
    "# Subject: Data Science Foundation\n",
    "\n",
    "## Session 6 - Introduction to descriptive statistics\n",
    "\n",
    "### Assignment -  Descriptive Statistics For pandas Dataframe \"Titanic\"\n",
    "\n",
    "\n",
    "- Considering the Descriptive Statistics presented in Demo 2 develop a descriptive statistics for the data set “Titanic”. \n",
    "- Commit scripts in your GitHub account. You should export your your solution code (.ipynb notebook) and push it to your repository “DataScienceFoundations”.\n",
    "- The following are the tasks that should complete and synchronize with your repository “DataScienceFoundations” until October 25. Please notice that this task will not be graded, however it’s important that you correctly understand and complete them in order to be sure that you won’t have problems with further assignments.\n",
    "\n",
    "Guidelines:\n",
    "- Clone the Git repository to get an initial code: \n",
    "https://github.com/FGutierresBTS/BTS_MasterInBigData.git\n",
    "- Once you downloaded the repository to your local file system, go to the folder “BTS_MasterInBigData/ Session_6_DSF”. \n",
    "- Copy the folder “Session_6_DSF” into your local folder “DataScienceFoundations”. \n",
    "- In the folder “Session_6_DSF” you will see the files called: \n",
    "    -\tBTS_DataScienceFoundations_Session6_Descriptive_Statistics_Individual_assignment.ipynb.\n",
    "    -   \"1_titanic_dataset.csv\" (note: this dataset must be pre-processed).\n",
    "- Import these files into Jupyter Notebook using the “Upload” button. \n",
    "- Open the imported script and put your code inside the notebook. \n",
    "- Export your Assignment *.ipynb notebook and push it to your repository “DataScienceFoundations”."
   ]
  },
  {
   "cell_type": "markdown",
   "metadata": {},
   "source": [
    "### Read data into a Dataframe:"
   ]
  },
  {
   "cell_type": "code",
   "execution_count": 27,
   "metadata": {
    "collapsed": true
   },
   "outputs": [],
   "source": [
    "import pandas as pd\n",
    "import numpy as np\n",
    "import matplotlib.pyplot as plt\n",
    "%matplotlib inline\n",
    "df = pd.read_csv(\"C:/Users/user/Desktop/BTS/Master/1st_Semester/Data Science Foundations/BTS_MasterInBigData/BTS_MasterInBigData/Session_2/2_titanic_dataset.csv\")"
   ]
  },
  {
   "cell_type": "markdown",
   "metadata": {
    "collapsed": true
   },
   "source": [
    "## Basic statistics \n",
    "\n",
    "Sum, Cumulative sum, Count the number of non-NA values, Count the number of NA values, Minimum value of \"Age\" and \"Passenger fare\", Minimum value of \"Age\" and \"Passenger fare\", Range of \"Age\" and \"Passenger fare\" and Frequency table of \"Age\" and \"Passenger fare\"."
   ]
  },
  {
   "cell_type": "code",
   "execution_count": 17,
   "metadata": {},
   "outputs": [
    {
     "name": "stdout",
     "output_type": "stream",
     "text": [
      "21205.17 714 177 537 0.42 80.0 79.58 0         22.00\n",
      "1         60.00\n",
      "2         86.00\n",
      "3        121.00\n",
      "4        156.00\n",
      "5           NaN\n",
      "6        210.00\n",
      "7        212.00\n",
      "8        239.00\n",
      "9        253.00\n",
      "10       257.00\n",
      "11       315.00\n",
      "12       335.00\n",
      "13       374.00\n",
      "14       388.00\n",
      "15       443.00\n",
      "16       445.00\n",
      "17          NaN\n",
      "18       476.00\n",
      "19          NaN\n",
      "20       511.00\n",
      "21       545.00\n",
      "22       560.00\n",
      "23       588.00\n",
      "24       596.00\n",
      "25       634.00\n",
      "26          NaN\n",
      "27       653.00\n",
      "28          NaN\n",
      "29          NaN\n",
      "         ...   \n",
      "861    20462.17\n",
      "862    20510.17\n",
      "863         NaN\n",
      "864    20534.17\n",
      "865    20576.17\n",
      "866    20603.17\n",
      "867    20634.17\n",
      "868         NaN\n",
      "869    20638.17\n",
      "870    20664.17\n",
      "871    20711.17\n",
      "872    20744.17\n",
      "873    20791.17\n",
      "874    20819.17\n",
      "875    20834.17\n",
      "876    20854.17\n",
      "877    20873.17\n",
      "878         NaN\n",
      "879    20929.17\n",
      "880    20954.17\n",
      "881    20987.17\n",
      "882    21009.17\n",
      "883    21037.17\n",
      "884    21062.17\n",
      "885    21101.17\n",
      "886    21128.17\n",
      "887    21147.17\n",
      "888         NaN\n",
      "889    21173.17\n",
      "890    21205.17\n",
      "Name: Age, Length: 891, dtype: float64\n"
     ]
    }
   ],
   "source": [
    "Age_sum = df[\"Age\"].sum()\n",
    "Age_cum_sum = df[\"Age\"].cumsum()\n",
    "Age_count = df[\"Age\"].count()\n",
    "Age_isnull = df[\"Age\"].isnull().sum()\n",
    "Age_notnull = Age_count - Age_isnull\n",
    "Age_min = df[\"Age\"].min()\n",
    "Age_max = df[\"Age\"].max()\n",
    "Age_range = Age_max - Age_min\n",
    "print(Age_sum, Age_count, Age_isnull, Age_notnull, Age_min, Age_max, Age_range,  Age_cum_sum)"
   ]
  },
  {
   "cell_type": "code",
   "execution_count": 18,
   "metadata": {},
   "outputs": [
    {
     "name": "stdout",
     "output_type": "stream",
     "text": [
      "28693.949299999967 891 0 891 0.0 512.3292 512.3292 0          7.2500\n",
      "1         78.5333\n",
      "2         86.4583\n",
      "3        139.5583\n",
      "4        147.6083\n",
      "5        156.0666\n",
      "6        207.9291\n",
      "7        229.0041\n",
      "8        240.1374\n",
      "9        270.2082\n",
      "10       286.9082\n",
      "11       313.4582\n",
      "12       321.5082\n",
      "13       352.7832\n",
      "14       360.6374\n",
      "15       376.6374\n",
      "16       405.7624\n",
      "17       418.7624\n",
      "18       436.7624\n",
      "19       443.9874\n",
      "20       469.9874\n",
      "21       482.9874\n",
      "22       491.0166\n",
      "23       526.5166\n",
      "24       547.5916\n",
      "25       578.9791\n",
      "26       586.2041\n",
      "27       849.2041\n",
      "28       857.0833\n",
      "29       864.9791\n",
      "          ...    \n",
      "861    28077.7245\n",
      "862    28103.6537\n",
      "863    28173.2037\n",
      "864    28186.2037\n",
      "865    28199.2037\n",
      "866    28213.0620\n",
      "867    28263.5578\n",
      "868    28273.0578\n",
      "869    28284.1911\n",
      "870    28292.0869\n",
      "871    28344.6411\n",
      "872    28349.6411\n",
      "873    28358.6411\n",
      "874    28382.6411\n",
      "875    28389.8661\n",
      "876    28399.7119\n",
      "877    28407.6077\n",
      "878    28415.5035\n",
      "879    28498.6618\n",
      "880    28524.6618\n",
      "881    28532.5576\n",
      "882    28543.0743\n",
      "883    28553.5743\n",
      "884    28560.6243\n",
      "885    28589.7493\n",
      "886    28602.7493\n",
      "887    28632.7493\n",
      "888    28656.1993\n",
      "889    28686.1993\n",
      "890    28693.9493\n",
      "Name: Fare, Length: 891, dtype: float64\n"
     ]
    }
   ],
   "source": [
    "Fare_sum = df[\"Fare\"].sum()\n",
    "Fare_cum_sum = df[\"Fare\"].cumsum()\n",
    "Fare_count = df[\"Fare\"].count()\n",
    "Fare_isnull = df[\"Fare\"].isnull().sum()\n",
    "Fare_notnull = Fare_count - Fare_isnull\n",
    "Fare_min = df[\"Fare\"].min()\n",
    "Fare_max = df[\"Fare\"].max()\n",
    "Fare_range = Fare_max - Fare_min\n",
    "print(Fare_sum, Fare_count, Fare_isnull, Fare_notnull, Fare_min, Fare_max, Fare_range,  Fare_cum_sum)"
   ]
  },
  {
   "cell_type": "markdown",
   "metadata": {
    "collapsed": true
   },
   "source": [
    "## Central Tendency\n",
    "\n",
    "Mean and Median."
   ]
  },
  {
   "cell_type": "code",
   "execution_count": 20,
   "metadata": {},
   "outputs": [
    {
     "name": "stdout",
     "output_type": "stream",
     "text": [
      "29.69911764705882 28.0\n"
     ]
    }
   ],
   "source": [
    "Age_mean = df['Age'].mean()\n",
    "Age_median = df['Age'].median()\n",
    "print(Age_mean, Age_median)"
   ]
  },
  {
   "cell_type": "code",
   "execution_count": 21,
   "metadata": {},
   "outputs": [
    {
     "name": "stdout",
     "output_type": "stream",
     "text": [
      "32.2042079685746 14.4542\n"
     ]
    }
   ],
   "source": [
    "Fare_mean = df['Fare'].mean()\n",
    "Fare_median = df['Fare'].median()\n",
    "print(Fare_mean, Fare_median)"
   ]
  },
  {
   "cell_type": "markdown",
   "metadata": {},
   "source": [
    "## Measures of spread\n",
    "\n",
    "Range, Variance, Standard deviation, Q1, Q2, Q3, Box-and-whisker plots and Histogram."
   ]
  },
  {
   "cell_type": "code",
   "execution_count": 29,
   "metadata": {},
   "outputs": [
    {
     "name": "stdout",
     "output_type": "stream",
     "text": [
      "211.0191247463081 14.526497332334044 20.125 28.0 38.0\n"
     ]
    },
    {
     "data": {
      "text/plain": [
       "<matplotlib.axes._subplots.AxesSubplot at 0x26ca36834e0>"
      ]
     },
     "execution_count": 29,
     "metadata": {},
     "output_type": "execute_result"
    },
    {
     "data": {
      "image/png": "[encoded data removed]",
      "text/plain": [
       "<matplotlib.figure.Figure at 0x26ca3655860>"
      ]
     },
     "metadata": {},
     "output_type": "display_data"
    }
   ],
   "source": [
    "Age_var = df['Age'].var()\n",
    "Age_stdev = df['Age'].std()\n",
    "Age_Q1 = df['Age'].quantile(.25)\n",
    "Age_Q2 = df['Age'].quantile(.5)\n",
    "Age_Q3 = df['Age'].quantile(.75)\n",
    "print(Age_var, Age_stdev, Age_Q1, Age_Q2, Age_Q3)\n",
    "df.boxplot(column='Age', sym='o', return_type='axes')"
   ]
  },
  {
   "cell_type": "code",
   "execution_count": 30,
   "metadata": {},
   "outputs": [
    {
     "name": "stdout",
     "output_type": "stream",
     "text": [
      "2469.436845743117 49.693428597180905 7.9104 14.4542 31.0\n"
     ]
    },
    {
     "data": {
      "text/plain": [
       "<matplotlib.axes._subplots.AxesSubplot at 0x26ca36cfb70>"
      ]
     },
     "execution_count": 30,
     "metadata": {},
     "output_type": "execute_result"
    },
    {
     "data": {
      "image/png": "[encoded data removed]",
      "text/plain": [
       "<matplotlib.figure.Figure at 0x26ca374a898>"
      ]
     },
     "metadata": {},
     "output_type": "display_data"
    }
   ],
   "source": [
    "Fare_var = df['Fare'].var()\n",
    "Fare_stdev = df['Fare'].std()\n",
    "Fare_Q1 = df['Fare'].quantile(.25)\n",
    "Fare_Q2 = df['Fare'].quantile(.5)\n",
    "Fare_Q3 = df['Fare'].quantile(.75)\n",
    "print(Fare_var, Fare_stdev, Fare_Q1, Fare_Q2, Fare_Q3)\n",
    "df.boxplot(column='Fare', sym='o', return_type='axes')"
   ]
  },
  {
   "cell_type": "markdown",
   "metadata": {},
   "source": [
    "## Finding outliers"
   ]
  },
  {
   "cell_type": "code",
   "execution_count": 33,
   "metadata": {},
   "outputs": [
    {
     "data": {
      "text/plain": [
       "<matplotlib.axes._subplots.AxesSubplot at 0x26ca390b550>"
      ]
     },
     "execution_count": 33,
     "metadata": {},
     "output_type": "execute_result"
    },
    {
     "data": {
      "image/png": "[encoded data removed]",
      "text/plain": [
       "<matplotlib.figure.Figure at 0x26ca35d6748>"
      ]
     },
     "metadata": {},
     "output_type": "display_data"
    }
   ],
   "source": [
    "df['Age_std'] = ((df['Age'] - df['Age'].mean()).apply(abs) / df['Age'].std())\n",
    "df[df['Age_std'] > 1.5].count()\n",
    "df['Age_std'].hist(bins=30)"
   ]
  },
  {
   "cell_type": "code",
   "execution_count": 34,
   "metadata": {},
   "outputs": [
    {
     "data": {
      "text/plain": [
       "<matplotlib.axes._subplots.AxesSubplot at 0x26ca39ceac8>"
      ]
     },
     "execution_count": 34,
     "metadata": {},
     "output_type": "execute_result"
    },
    {
     "data": {
      "image/png": "[encoded data removed]",
      "text/plain": [
       "<matplotlib.figure.Figure at 0x26ca3a36978>"
      ]
     },
     "metadata": {},
     "output_type": "display_data"
    }
   ],
   "source": [
    "df['Fare_std'] = ((df['Fare'] - df['Fare'].mean()).apply(abs) / df['Fare'].std())\n",
    "df[df['Fare_std'] > 1.5].count()\n",
    "df['Fare_std'].hist(bins=30)"
   ]
  },
  {
   "cell_type": "markdown",
   "metadata": {},
   "source": [
    "## Skewness and Kurtosis"
   ]
  },
  {
   "cell_type": "code",
   "execution_count": 35,
   "metadata": {},
   "outputs": [
    {
     "name": "stdout",
     "output_type": "stream",
     "text": [
      "0.389107782301 0.178274153642\n"
     ]
    }
   ],
   "source": [
    "print(df['Age'].skew(), df['Age'].kurt())"
   ]
  },
  {
   "cell_type": "code",
   "execution_count": 36,
   "metadata": {},
   "outputs": [
    {
     "name": "stdout",
     "output_type": "stream",
     "text": [
      "4.78731651967 33.3981408809\n"
     ]
    }
   ],
   "source": [
    "print(df['Fare'].skew(), df['Fare'].kurt())"
   ]
  }
 ],
 "metadata": {
  "kernelspec": {
   "display_name": "Python 3",
   "language": "python",
   "name": "python3"
  },
  "language_info": {
   "codemirror_mode": {
    "name": "ipython",
    "version": 3
   },
   "file_extension": ".py",
   "mimetype": "text/x-python",
   "name": "python",
   "nbconvert_exporter": "python",
   "pygments_lexer": "ipython3",
   "version": "3.6.1"
  }
 },
 "nbformat": 4,
 "nbformat_minor": 2
}
