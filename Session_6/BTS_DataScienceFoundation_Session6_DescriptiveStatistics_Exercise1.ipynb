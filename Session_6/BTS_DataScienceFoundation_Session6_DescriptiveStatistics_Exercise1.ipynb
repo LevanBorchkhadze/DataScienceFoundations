{
 "cells": [
  {
   "cell_type": "markdown",
   "metadata": {},
   "source": [
    "# Subject: Data Science Foundation\n",
    "\n",
    "## Session 6 - Introduction to descriptive statistics\n",
    "\n",
    "### Exercice 1 -  Descriptive Statistics For pandas Dataframe \"Advertising Data\"\n",
    "\n",
    "Considering the Descriptive Statistics in Demo 2 develop the Descriptive Statistics for the variables “TV”, “radio” and “newspaper”. \n",
    "\n",
    "- Dataset: \"Advertising\" (available at http://www-bcf.usc.edu/~gareth/ISL/Advertising.csv). \n",
    "- Interpret and discuss the Results. \n",
    "- Commit scripts in your GitHub account. You should export your solution code (.ipynb notebook) and push it to your repository “DataScienceFoundations”.\n",
    "\n",
    "\n",
    "The following are the tasks that should complete and synchronize with your repository “DataScienceFoundations” until October 25. Please notice that none of these tasks is graded, however it’s important that you correctly understand and complete them in order to be sure that you won’t have problems with further assignments."
   ]
  },
  {
   "cell_type": "markdown",
   "metadata": {},
   "source": [
    "### Read data into a Dataframe:"
   ]
  },
  {
   "cell_type": "code",
   "execution_count": 1,
   "metadata": {},
   "outputs": [
    {
     "data": {
      "text/html": [
       "<div>\n",
       "<style>\n",
       "    .dataframe thead tr:only-child th {\n",
       "        text-align: right;\n",
       "    }\n",
       "\n",
       "    .dataframe thead th {\n",
       "        text-align: left;\n",
       "    }\n",
       "\n",
       "    .dataframe tbody tr th {\n",
       "        vertical-align: top;\n",
       "    }\n",
       "</style>\n",
       "<table border=\"1\" class=\"dataframe\">\n",
       "  <thead>\n",
       "    <tr style=\"text-align: right;\">\n",
       "      <th></th>\n",
       "      <th>TV</th>\n",
       "      <th>radio</th>\n",
       "      <th>newspaper</th>\n",
       "      <th>sales</th>\n",
       "    </tr>\n",
       "  </thead>\n",
       "  <tbody>\n",
       "    <tr>\n",
       "      <th>1</th>\n",
       "      <td>230.1</td>\n",
       "      <td>37.8</td>\n",
       "      <td>69.2</td>\n",
       "      <td>22.1</td>\n",
       "    </tr>\n",
       "    <tr>\n",
       "      <th>2</th>\n",
       "      <td>44.5</td>\n",
       "      <td>39.3</td>\n",
       "      <td>45.1</td>\n",
       "      <td>10.4</td>\n",
       "    </tr>\n",
       "    <tr>\n",
       "      <th>3</th>\n",
       "      <td>17.2</td>\n",
       "      <td>45.9</td>\n",
       "      <td>69.3</td>\n",
       "      <td>9.3</td>\n",
       "    </tr>\n",
       "    <tr>\n",
       "      <th>4</th>\n",
       "      <td>151.5</td>\n",
       "      <td>41.3</td>\n",
       "      <td>58.5</td>\n",
       "      <td>18.5</td>\n",
       "    </tr>\n",
       "    <tr>\n",
       "      <th>5</th>\n",
       "      <td>180.8</td>\n",
       "      <td>10.8</td>\n",
       "      <td>58.4</td>\n",
       "      <td>12.9</td>\n",
       "    </tr>\n",
       "  </tbody>\n",
       "</table>\n",
       "</div>"
      ],
      "text/plain": [
       "      TV  radio  newspaper  sales\n",
       "1  230.1   37.8       69.2   22.1\n",
       "2   44.5   39.3       45.1   10.4\n",
       "3   17.2   45.9       69.3    9.3\n",
       "4  151.5   41.3       58.5   18.5\n",
       "5  180.8   10.8       58.4   12.9"
      ]
     },
     "execution_count": 1,
     "metadata": {},
     "output_type": "execute_result"
    }
   ],
   "source": [
    "import pandas as pd\n",
    "import numpy as np\n",
    "import matplotlib.pyplot as plt\n",
    "%matplotlib inline\n",
    "data = pd.read_csv('http://www-bcf.usc.edu/~gareth/ISL/Advertising.csv', index_col=0)\n",
    "data.head()"
   ]
  },
  {
   "cell_type": "markdown",
   "metadata": {
    "collapsed": true
   },
   "source": [
    "## Basic statistics \n",
    "\n",
    "Sum, Cumulative sum, Count the number of non-NA values, Count the number of NA values, Minimum value of TV, Minimum value of TV and Range of TV. Repeat for radio and newspaper."
   ]
  },
  {
   "cell_type": "code",
   "execution_count": 44,
   "metadata": {},
   "outputs": [
    {
     "name": "stdout",
     "output_type": "stream",
     "text": [
      "29408.499999999996 200 0 200 0.7 296.4 295.7 1        230.1\n",
      "2        274.6\n",
      "3        291.8\n",
      "4        443.3\n",
      "5        624.1\n",
      "6        632.8\n",
      "7        690.3\n",
      "8        810.5\n",
      "9        819.1\n",
      "10      1018.9\n",
      "11      1085.0\n",
      "12      1299.7\n",
      "13      1323.5\n",
      "14      1421.0\n",
      "15      1625.1\n",
      "16      1820.5\n",
      "17      1888.3\n",
      "18      2169.7\n",
      "19      2238.9\n",
      "20      2386.2\n",
      "21      2604.6\n",
      "22      2842.0\n",
      "23      2855.2\n",
      "24      3083.5\n",
      "25      3145.8\n",
      "26      3408.7\n",
      "27      3551.6\n",
      "28      3791.7\n",
      "29      4040.5\n",
      "30      4111.1\n",
      "        ...   \n",
      "171    24609.0\n",
      "172    24773.5\n",
      "173    24793.1\n",
      "174    24961.5\n",
      "175    25183.9\n",
      "176    25460.8\n",
      "177    25709.2\n",
      "178    25879.4\n",
      "179    26156.1\n",
      "180    26321.7\n",
      "181    26478.3\n",
      "182    26696.8\n",
      "183    26753.0\n",
      "184    27040.6\n",
      "185    27294.4\n",
      "186    27499.4\n",
      "187    27638.9\n",
      "188    27830.0\n",
      "189    28116.0\n",
      "190    28134.7\n",
      "191    28174.2\n",
      "192    28249.7\n",
      "193    28266.9\n",
      "194    28433.7\n",
      "195    28583.4\n",
      "196    28621.6\n",
      "197    28715.8\n",
      "198    28892.8\n",
      "199    29176.4\n",
      "200    29408.5\n",
      "Name: TV, Length: 200, dtype: float64\n"
     ]
    }
   ],
   "source": [
    "TV_sum = data[\"TV\"].sum()\n",
    "TV_cum_sum = data[\"TV\"].cumsum()\n",
    "TV_count = data[\"TV\"].count()\n",
    "TV_isnull = data[\"TV\"].isnull().sum()\n",
    "TV_notnull = TV_count - TV_isnull\n",
    "TV_min = data[\"TV\"].min()\n",
    "TV_max = data[\"TV\"].max()\n",
    "TV_range = TV_max - TV_min\n",
    "print(TV_sum, TV_count, TV_isnull, TV_notnull, TV_min, TV_max, TV_range,  TV_cum_sum)"
   ]
  },
  {
   "cell_type": "code",
   "execution_count": 45,
   "metadata": {},
   "outputs": [
    {
     "name": "stdout",
     "output_type": "stream",
     "text": [
      "4652.800000000005 200 0 200 0.0 49.6 49.6 1        37.8\n",
      "2        77.1\n",
      "3       123.0\n",
      "4       164.3\n",
      "5       175.1\n",
      "6       224.0\n",
      "7       256.8\n",
      "8       276.4\n",
      "9       278.5\n",
      "10      281.1\n",
      "11      286.9\n",
      "12      310.9\n",
      "13      346.0\n",
      "14      353.6\n",
      "15      386.5\n",
      "16      434.2\n",
      "17      470.8\n",
      "18      510.4\n",
      "19      530.9\n",
      "20      554.8\n",
      "21      582.5\n",
      "22      587.6\n",
      "23      603.5\n",
      "24      620.4\n",
      "25      633.0\n",
      "26      636.5\n",
      "27      665.8\n",
      "28      682.5\n",
      "29      709.6\n",
      "30      725.6\n",
      "        ...  \n",
      "171    4120.1\n",
      "172    4141.0\n",
      "173    4161.1\n",
      "174    4168.2\n",
      "175    4171.6\n",
      "176    4220.5\n",
      "177    4250.7\n",
      "178    4258.5\n",
      "179    4260.8\n",
      "180    4270.8\n",
      "181    4273.4\n",
      "182    4278.8\n",
      "183    4284.5\n",
      "184    4327.5\n",
      "185    4348.8\n",
      "186    4393.9\n",
      "187    4396.0\n",
      "188    4424.7\n",
      "189    4438.6\n",
      "190    4450.7\n",
      "191    4491.8\n",
      "192    4502.6\n",
      "193    4506.7\n",
      "194    4548.7\n",
      "195    4584.3\n",
      "196    4588.0\n",
      "197    4592.9\n",
      "198    4602.2\n",
      "199    4644.2\n",
      "200    4652.8\n",
      "Name: radio, Length: 200, dtype: float64\n"
     ]
    }
   ],
   "source": [
    "radio_sum = data[\"radio\"].sum()\n",
    "radio_cum_sum = data[\"radio\"].cumsum()\n",
    "radio_count = data[\"radio\"].count()\n",
    "radio_isnull = data[\"radio\"].isnull().sum()\n",
    "radio_notnull = radio_count - radio_isnull\n",
    "radio_min = data[\"radio\"].min()\n",
    "radio_max = data[\"radio\"].max()\n",
    "radio_range = radio_max - radio_min\n",
    "print(radio_sum, radio_count, radio_isnull, radio_notnull, radio_min, radio_max, radio_range,  radio_cum_sum)"
   ]
  },
  {
   "cell_type": "code",
   "execution_count": 46,
   "metadata": {},
   "outputs": [
    {
     "name": "stdout",
     "output_type": "stream",
     "text": [
      "6110.799999999999 200 0 200 0.3 114.0 113.7 1        69.2\n",
      "2       114.3\n",
      "3       183.6\n",
      "4       242.1\n",
      "5       300.5\n",
      "6       375.5\n",
      "7       399.0\n",
      "8       410.6\n",
      "9       411.6\n",
      "10      432.8\n",
      "11      457.0\n",
      "12      461.0\n",
      "13      526.9\n",
      "14      534.1\n",
      "15      580.1\n",
      "16      633.0\n",
      "17      747.0\n",
      "18      802.8\n",
      "19      821.1\n",
      "20      840.2\n",
      "21      893.6\n",
      "22      917.1\n",
      "23      966.7\n",
      "24      992.9\n",
      "25     1011.2\n",
      "26     1030.7\n",
      "27     1043.3\n",
      "28     1066.2\n",
      "29     1089.1\n",
      "30     1129.9\n",
      "        ...  \n",
      "171    5467.0\n",
      "172    5514.4\n",
      "173    5531.4\n",
      "174    5544.2\n",
      "175    5557.3\n",
      "176    5599.1\n",
      "177    5619.4\n",
      "178    5654.6\n",
      "179    5678.3\n",
      "180    5695.9\n",
      "181    5704.2\n",
      "182    5731.6\n",
      "183    5761.3\n",
      "184    5833.1\n",
      "185    5863.1\n",
      "186    5882.7\n",
      "187    5909.3\n",
      "188    5927.5\n",
      "189    5931.2\n",
      "190    5954.6\n",
      "191    5960.4\n",
      "192    5966.4\n",
      "193    5998.0\n",
      "194    6001.6\n",
      "195    6007.6\n",
      "196    6021.4\n",
      "197    6029.5\n",
      "198    6035.9\n",
      "199    6102.1\n",
      "200    6110.8\n",
      "Name: newspaper, Length: 200, dtype: float64\n"
     ]
    }
   ],
   "source": [
    "newspaper_sum = data[\"newspaper\"].sum()\n",
    "newspaper_cum_sum = data[\"newspaper\"].cumsum()\n",
    "newspaper_count = data[\"newspaper\"].count()\n",
    "newspaper_isnull = data[\"newspaper\"].isnull().sum()\n",
    "newspaper_notnull = newspaper_count - newspaper_isnull\n",
    "newspaper_min = data[\"newspaper\"].min()\n",
    "newspaper_max = data[\"newspaper\"].max()\n",
    "newspaper_range = newspaper_max - newspaper_min\n",
    "print(newspaper_sum, newspaper_count, newspaper_isnull, newspaper_notnull, newspaper_min, newspaper_max, newspaper_range,  newspaper_cum_sum)"
   ]
  },
  {
   "cell_type": "markdown",
   "metadata": {
    "collapsed": true
   },
   "source": [
    "## Central Tendency\n",
    "\n",
    "Mean and Median."
   ]
  },
  {
   "cell_type": "code",
   "execution_count": 47,
   "metadata": {},
   "outputs": [
    {
     "name": "stdout",
     "output_type": "stream",
     "text": [
      "147.0425 149.75\n"
     ]
    }
   ],
   "source": [
    "TV_mean = data['TV'].mean()\n",
    "TV_median = data['TV'].median()\n",
    "print(TV_mean, TV_median)"
   ]
  },
  {
   "cell_type": "code",
   "execution_count": 48,
   "metadata": {},
   "outputs": [
    {
     "name": "stdout",
     "output_type": "stream",
     "text": [
      "23.264000000000024 22.9\n"
     ]
    }
   ],
   "source": [
    "radio_mean = data['radio'].mean()\n",
    "radio_median = data['radio'].median()\n",
    "print(radio_mean, radio_median)"
   ]
  },
  {
   "cell_type": "code",
   "execution_count": 49,
   "metadata": {},
   "outputs": [
    {
     "name": "stdout",
     "output_type": "stream",
     "text": [
      "30.553999999999995 25.75\n"
     ]
    }
   ],
   "source": [
    "newspaper_mean = data['newspaper'].mean()\n",
    "newspaper_median = data['newspaper'].median()\n",
    "print(newspaper_mean, newspaper_median)"
   ]
  },
  {
   "cell_type": "markdown",
   "metadata": {},
   "source": [
    "## Measures of spread\n",
    "\n",
    "Range, Variance, Standard deviation, Q1, Q2, Q3, Box-and-whisker plots and Histogram."
   ]
  },
  {
   "cell_type": "code",
   "execution_count": 50,
   "metadata": {},
   "outputs": [
    {
     "name": "stdout",
     "output_type": "stream",
     "text": [
      "295.7 49.6 113.7\n",
      "7370.949893216087 85.8542363149081 74.375 149.75 218.825\n"
     ]
    },
    {
     "data": {
      "text/plain": [
       "<matplotlib.axes._subplots.AxesSubplot at 0x2a371e71748>"
      ]
     },
     "execution_count": 50,
     "metadata": {},
     "output_type": "execute_result"
    },
    {
     "data": {
      "image/png": "[encoded data removed]",
      "text/plain": [
       "<matplotlib.figure.Figure at 0x2a371c6df28>"
      ]
     },
     "metadata": {},
     "output_type": "display_data"
    }
   ],
   "source": [
    "print(TV_range, radio_range, newspaper_range)\n",
    "TV_var = data['TV'].var()\n",
    "TV_stdev = data['TV'].std()\n",
    "TV_Q1 = data['TV'].quantile(.25)\n",
    "TV_Q2 = data['TV'].quantile(.5)\n",
    "TV_Q3 = data['TV'].quantile(.75)\n",
    "print(TV_var, TV_stdev, TV_Q1, TV_Q2, TV_Q3)\n",
    "data.boxplot(column='TV', sym='o', return_type='axes')"
   ]
  },
  {
   "cell_type": "code",
   "execution_count": 34,
   "metadata": {},
   "outputs": [
    {
     "name": "stdout",
     "output_type": "stream",
     "text": [
      "49.6 49.6 113.7\n"
     ]
    },
    {
     "data": {
      "text/plain": [
       "<matplotlib.axes._subplots.AxesSubplot at 0x2a371cabc50>"
      ]
     },
     "execution_count": 34,
     "metadata": {},
     "output_type": "execute_result"
    },
    {
     "data": {
      "image/png": "[encoded data removed]",
      "text/plain": [
       "<matplotlib.figure.Figure at 0x2a371cbe128>"
      ]
     },
     "metadata": {},
     "output_type": "display_data"
    }
   ],
   "source": [
    "print(radio_range, radio_range, newspaper_range)\n",
    "radio_var = data['radio'].var()\n",
    "radio_stdev = data['radio'].std()\n",
    "radio_Q1 = data['radio'].quantile(.25)\n",
    "radio_Q2 = data['radio'].quantile(.5)\n",
    "radio_Q3 = data['radio'].quantile(.75)\n",
    "print(radio_var, radio_stdev, radio_Q1, radio_Q2, radio_Q3)\n",
    "data.boxplot(column='radio', sym='o', return_type='axes')"
   ]
  },
  {
   "cell_type": "code",
   "execution_count": 51,
   "metadata": {},
   "outputs": [
    {
     "name": "stdout",
     "output_type": "stream",
     "text": [
      "113.7 49.6 113.7\n",
      "474.30832562814095 21.778620838522833 12.750000000000002 25.75 45.1\n"
     ]
    },
    {
     "data": {
      "text/plain": [
       "<matplotlib.axes._subplots.AxesSubplot at 0x2a371ea5780>"
      ]
     },
     "execution_count": 51,
     "metadata": {},
     "output_type": "execute_result"
    },
    {
     "data": {
      "image/png": "[encoded data removed]",
      "text/plain": [
       "<matplotlib.figure.Figure at 0x2a371f1f7b8>"
      ]
     },
     "metadata": {},
     "output_type": "display_data"
    }
   ],
   "source": [
    "print(newspaper_range, radio_range, newspaper_range)\n",
    "newspaper_var = data['newspaper'].var()\n",
    "newspaper_stdev = data['newspaper'].std()\n",
    "newspaper_Q1 = data['newspaper'].quantile(.25)\n",
    "newspaper_Q2 = data['newspaper'].quantile(.5)\n",
    "newspaper_Q3 = data['newspaper'].quantile(.75)\n",
    "print(newspaper_var, newspaper_stdev, newspaper_Q1, newspaper_Q2, newspaper_Q3)\n",
    "data.boxplot(column='newspaper', sym='o', return_type='axes')"
   ]
  },
  {
   "cell_type": "markdown",
   "metadata": {},
   "source": [
    "## Finding outliers"
   ]
  },
  {
   "cell_type": "code",
   "execution_count": 70,
   "metadata": {},
   "outputs": [
    {
     "data": {
      "text/plain": [
       "<matplotlib.axes._subplots.AxesSubplot at 0x2a3736704e0>"
      ]
     },
     "execution_count": 70,
     "metadata": {},
     "output_type": "execute_result"
    },
    {
     "data": {
      "image/png": "[encoded data removed]",
      "text/plain": [
       "<matplotlib.figure.Figure at 0x2a3736e5d68>"
      ]
     },
     "metadata": {},
     "output_type": "display_data"
    }
   ],
   "source": [
    "data['TV_std'] = ((data['TV'] - data['TV'].mean()).apply(abs) / data['TV'].std())\n",
    "data[data['TV_std'] > 1.5].count()\n",
    "data['TV_std'].hist(bins=30)"
   ]
  },
  {
   "cell_type": "code",
   "execution_count": 96,
   "metadata": {},
   "outputs": [
    {
     "data": {
      "text/plain": [
       "<matplotlib.axes._subplots.AxesSubplot at 0x2a373bb3dd8>"
      ]
     },
     "execution_count": 96,
     "metadata": {},
     "output_type": "execute_result"
    },
    {
     "data": {
      "image/png": "[encoded data removed]",
      "text/plain": [
       "<matplotlib.figure.Figure at 0x2a373c86780>"
      ]
     },
     "metadata": {},
     "output_type": "display_data"
    }
   ],
   "source": [
    "data['TV'].hist(bins=30)"
   ]
  },
  {
   "cell_type": "code",
   "execution_count": 71,
   "metadata": {},
   "outputs": [
    {
     "data": {
      "text/plain": [
       "<matplotlib.axes._subplots.AxesSubplot at 0x2a3739dfdd8>"
      ]
     },
     "execution_count": 71,
     "metadata": {},
     "output_type": "execute_result"
    },
    {
     "data": {
      "image/png": "[encoded data removed]",
      "text/plain": [
       "<matplotlib.figure.Figure at 0x2a3736ddcf8>"
      ]
     },
     "metadata": {},
     "output_type": "display_data"
    }
   ],
   "source": [
    "data['radio_std'] = ((data['radio'] - data['radio'].mean()).apply(abs) / data['radio'].std())\n",
    "data[data['radio_std'] > 1.5].count()\n",
    "data['radio_std'].hist(bins=30)"
   ]
  },
  {
   "cell_type": "code",
   "execution_count": 97,
   "metadata": {},
   "outputs": [
    {
     "data": {
      "text/plain": [
       "<matplotlib.axes._subplots.AxesSubplot at 0x2a373bb3d68>"
      ]
     },
     "execution_count": 97,
     "metadata": {},
     "output_type": "execute_result"
    },
    {
     "data": {
      "image/png": "[encoded data removed]",
      "text/plain": [
       "<matplotlib.figure.Figure at 0x2a373e5c9b0>"
      ]
     },
     "metadata": {},
     "output_type": "display_data"
    }
   ],
   "source": [
    "data['radio'].hist(bins=30)"
   ]
  },
  {
   "cell_type": "code",
   "execution_count": 72,
   "metadata": {},
   "outputs": [
    {
     "data": {
      "text/plain": [
       "<matplotlib.axes._subplots.AxesSubplot at 0x2a373a01ba8>"
      ]
     },
     "execution_count": 72,
     "metadata": {},
     "output_type": "execute_result"
    },
    {
     "data": {
      "image/png": "[encoded data removed]",
      "text/plain": [
       "<matplotlib.figure.Figure at 0x2a3738dbeb8>"
      ]
     },
     "metadata": {},
     "output_type": "display_data"
    }
   ],
   "source": [
    "data['newspaper_std'] = ((data['newspaper'] - data['newspaper'].mean()).apply(abs) / data['newspaper'].std())\n",
    "data[data['newspaper_std'] > 1.5].count()\n",
    "data['newspaper_std'].hist(bins=30)"
   ]
  },
  {
   "cell_type": "code",
   "execution_count": 98,
   "metadata": {},
   "outputs": [
    {
     "data": {
      "text/plain": [
       "<matplotlib.axes._subplots.AxesSubplot at 0x2a373e5ccc0>"
      ]
     },
     "execution_count": 98,
     "metadata": {},
     "output_type": "execute_result"
    },
    {
     "data": {
      "image/png": "[encoded data removed]",
      "text/plain": [
       "<matplotlib.figure.Figure at 0x2a373f6d160>"
      ]
     },
     "metadata": {},
     "output_type": "display_data"
    }
   ],
   "source": [
    "data['newspaper'].hist(bins=30)"
   ]
  },
  {
   "cell_type": "code",
   "execution_count": 91,
   "metadata": {},
   "outputs": [
    {
     "data": {
      "text/html": [
       "<div>\n",
       "<style>\n",
       "    .dataframe thead tr:only-child th {\n",
       "        text-align: right;\n",
       "    }\n",
       "\n",
       "    .dataframe thead th {\n",
       "        text-align: left;\n",
       "    }\n",
       "\n",
       "    .dataframe tbody tr th {\n",
       "        vertical-align: top;\n",
       "    }\n",
       "</style>\n",
       "<table border=\"1\" class=\"dataframe\">\n",
       "  <thead>\n",
       "    <tr style=\"text-align: right;\">\n",
       "      <th></th>\n",
       "      <th>TV</th>\n",
       "      <th>radio</th>\n",
       "      <th>newspaper</th>\n",
       "      <th>sales</th>\n",
       "      <th>TV_std</th>\n",
       "      <th>radio_std</th>\n",
       "      <th>newspaper_std</th>\n",
       "    </tr>\n",
       "  </thead>\n",
       "  <tbody>\n",
       "    <tr>\n",
       "      <th>2</th>\n",
       "      <td>44.5</td>\n",
       "      <td>39.3</td>\n",
       "      <td>45.1</td>\n",
       "      <td>10.4</td>\n",
       "      <td>1.194379</td>\n",
       "      <td>1.080097</td>\n",
       "      <td>0.667903</td>\n",
       "    </tr>\n",
       "    <tr>\n",
       "      <th>4</th>\n",
       "      <td>151.5</td>\n",
       "      <td>41.3</td>\n",
       "      <td>58.5</td>\n",
       "      <td>18.5</td>\n",
       "      <td>0.051919</td>\n",
       "      <td>1.214806</td>\n",
       "      <td>1.283185</td>\n",
       "    </tr>\n",
       "    <tr>\n",
       "      <th>5</th>\n",
       "      <td>180.8</td>\n",
       "      <td>10.8</td>\n",
       "      <td>58.4</td>\n",
       "      <td>12.9</td>\n",
       "      <td>0.393196</td>\n",
       "      <td>0.839507</td>\n",
       "      <td>1.278593</td>\n",
       "    </tr>\n",
       "    <tr>\n",
       "      <th>7</th>\n",
       "      <td>57.5</td>\n",
       "      <td>32.8</td>\n",
       "      <td>23.5</td>\n",
       "      <td>11.8</td>\n",
       "      <td>1.042960</td>\n",
       "      <td>0.642293</td>\n",
       "      <td>0.323896</td>\n",
       "    </tr>\n",
       "    <tr>\n",
       "      <th>8</th>\n",
       "      <td>120.2</td>\n",
       "      <td>19.6</td>\n",
       "      <td>11.6</td>\n",
       "      <td>13.2</td>\n",
       "      <td>0.312652</td>\n",
       "      <td>0.246787</td>\n",
       "      <td>0.870303</td>\n",
       "    </tr>\n",
       "  </tbody>\n",
       "</table>\n",
       "</div>"
      ],
      "text/plain": [
       "      TV  radio  newspaper  sales    TV_std  radio_std  newspaper_std\n",
       "2   44.5   39.3       45.1   10.4  1.194379   1.080097       0.667903\n",
       "4  151.5   41.3       58.5   18.5  0.051919   1.214806       1.283185\n",
       "5  180.8   10.8       58.4   12.9  0.393196   0.839507       1.278593\n",
       "7   57.5   32.8       23.5   11.8  1.042960   0.642293       0.323896\n",
       "8  120.2   19.6       11.6   13.2  0.312652   0.246787       0.870303"
      ]
     },
     "execution_count": 91,
     "metadata": {},
     "output_type": "execute_result"
    }
   ],
   "source": [
    "cleaned_data_newspaper = data[data['newspaper_std'] < 1.7]\n",
    "cleaned_data_newspaper.head()"
   ]
  },
  {
   "cell_type": "markdown",
   "metadata": {},
   "source": [
    "## Skewness and Kurtosis"
   ]
  },
  {
   "cell_type": "code",
   "execution_count": 93,
   "metadata": {},
   "outputs": [
    {
     "name": "stdout",
     "output_type": "stream",
     "text": [
      "-0.0698533621327 -1.22649482423\n"
     ]
    }
   ],
   "source": [
    "print(data['TV'].skew(), data['TV'].kurt())"
   ]
  },
  {
   "cell_type": "code",
   "execution_count": 94,
   "metadata": {},
   "outputs": [
    {
     "name": "stdout",
     "output_type": "stream",
     "text": [
      "-0.0698533621327 -1.22649482423\n"
     ]
    }
   ],
   "source": [
    "print(data['radio'].skew(), data['radio'].kurt())"
   ]
  },
  {
   "cell_type": "code",
   "execution_count": 95,
   "metadata": {},
   "outputs": [
    {
     "name": "stdout",
     "output_type": "stream",
     "text": [
      "0.894720407499 0.649501909138\n"
     ]
    }
   ],
   "source": [
    "print(data['newspaper'].skew(), data['newspaper'].kurt())"
   ]
  },
  {
   "cell_type": "markdown",
   "metadata": {},
   "source": [
    "## Question: Which variable set has the larger standard deviation? What is its impact?"
   ]
  }
 ],
 "metadata": {
  "kernelspec": {
   "display_name": "Python 3",
   "language": "python",
   "name": "python3"
  },
  "language_info": {
   "codemirror_mode": {
    "name": "ipython",
    "version": 3
   },
   "file_extension": ".py",
   "mimetype": "text/x-python",
   "name": "python",
   "nbconvert_exporter": "python",
   "pygments_lexer": "ipython3",
   "version": "3.6.1"
  }
 },
 "nbformat": 4,
 "nbformat_minor": 2
}
