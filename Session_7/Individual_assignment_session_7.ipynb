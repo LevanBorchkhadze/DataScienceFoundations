{
 "cells": [
  {
   "cell_type": "code",
   "execution_count": 106,
   "metadata": {
    "collapsed": true
   },
   "outputs": [],
   "source": [
    "from nltk import word_tokenize\n",
    "import nltk\n",
    "import os\n",
    "from nltk.corpus import stopwords\n",
    "from sklearn.feature_extraction.text import TfidfVectorizer\n",
    "import math\n",
    "import numpy as np\n",
    "import seaborn as sns\n",
    "import matplotlib.pyplot as plt\n",
    "%matplotlib inline"
   ]
  },
  {
   "cell_type": "code",
   "execution_count": 107,
   "metadata": {
    "collapsed": true
   },
   "outputs": [],
   "source": [
    "os.chdir('C:/Users/user/Desktop/BTS/Master/1st_Semester/Data Science Foundations/DataScienceFoundations/Session_5/individual_assignment')"
   ]
  },
  {
   "cell_type": "code",
   "execution_count": 108,
   "metadata": {
    "collapsed": true
   },
   "outputs": [],
   "source": [
    "with open('Led_Zeppelin_Since.txt') as file:\n",
    "    Led_Zeppelin_Since = file.read().replace('\\n', ' ')\n",
    "\n",
    "with open('David_Bowie_Space_Oddity.txt') as file:\n",
    "    David_Bowie_Space_Oddity = file.read().replace('\\n', ' ')\n",
    "    \n",
    "with open('Led_Zeppelin_Stairway_to_Heaven.txt') as file:\n",
    "    Led_Zeppelin_Stairway_to_Heaven = file.read().replace('\\n', ' ')\n",
    "    \n",
    "with open('Nina_Simone_Free.txt') as file:\n",
    "    Nina_Simone_Free = file.read().replace('\\n', ' ')\n",
    "    \n",
    "with open('Pink_Floyd_Brain_Demage.txt') as file:\n",
    "    Pink_Floyd_Brain_Demage = file.read().replace('\\n', ' ')\n",
    "    \n",
    "with open('Pink_Floyd_Eclipse.txt') as file:\n",
    "    Pink_Floyd_Eclipse = file.read().replace('\\n', ' ')\n",
    "    \n",
    "with open('Pink_Floyd_Shine_on.txt') as file:\n",
    "    Pink_Floyd_Shine_on = file.read().replace('\\n', ' ')\n",
    "    \n",
    "with open('Pink_Floyd_Wish_You.txt') as file:\n",
    "    Pink_Floyd_Wish_You = file.read().replace('\\n', ' ')\n",
    "    \n",
    "with open('Pixies_Where_Is_My_Mind.txt') as file:\n",
    "    Pixies_Where_Is_My_Mind = file.read().replace('\\n', ' ')\n",
    "    \n",
    "with open('Queen_Bohemia_Rapsody.txt') as file:\n",
    "    Queen_Bohemia_Rapsody = file.read().replace('\\n', ' ')"
   ]
  },
  {
   "cell_type": "code",
   "execution_count": 109,
   "metadata": {
    "collapsed": true
   },
   "outputs": [],
   "source": [
    "lyrics = [Led_Zeppelin_Since, David_Bowie_Space_Oddity, Led_Zeppelin_Stairway_to_Heaven, Nina_Simone_Free, Pink_Floyd_Brain_Demage, Pink_Floyd_Eclipse, Pink_Floyd_Shine_on, Pink_Floyd_Wish_You, Pixies_Where_Is_My_Mind, Queen_Bohemia_Rapsody]\n",
    "names = ['Led_Zeppelin_Since', 'David_Bowie_Space_Oddity', 'Led_Zeppelin_Stairway_to_Heaven', 'Nina_Simone_Free', 'Pink_Floyd_Brain_Demage', 'Pink_Floyd_Eclipse', 'Pink_Floyd_Shine_on', 'Pink_Floyd_Wish_You', 'Pixies_Where_Is_My_Mind', 'Queen_Bohemia_Rapsody']"
   ]
  },
  {
   "cell_type": "code",
   "execution_count": 110,
   "metadata": {},
   "outputs": [],
   "source": [
    "tokenize = lambda doc: doc.lower().split(\" \")\n",
    "\n",
    "sklearn_tfidf = TfidfVectorizer(norm='l2',min_df=0, use_idf=True, smooth_idf=False, sublinear_tf=True, tokenizer=tokenize)\n",
    "\n",
    "sklearn_representation = sklearn_tfidf.fit_transform(lyrics)"
   ]
  },
  {
   "cell_type": "code",
   "execution_count": 111,
   "metadata": {
    "collapsed": true
   },
   "outputs": [],
   "source": [
    "def cosine_similarity(vector1, vector2):\n",
    "    dot_product = sum(p*q for p,q in zip(vector1, vector2))\n",
    "    magnitude = math.sqrt(sum([val**2 for val in vector1])) * math.sqrt(sum([val**2 for val in vector2]))\n",
    "    if not magnitude:\n",
    "        return 0\n",
    "    return dot_product/magnitude"
   ]
  },
  {
   "cell_type": "code",
   "execution_count": 112,
   "metadata": {},
   "outputs": [
    {
     "name": "stdout",
     "output_type": "stream",
     "text": [
      "1.0 0.09 0.13 0.15 0.08 0.1 0.04 0.1 0.11 0.22 \n",
      "0.09 1.0 0.15 0.12 0.12 0.07 0.07 0.12 0.13 0.14 \n",
      "0.13 0.15 1.0 0.16 0.15 0.16 0.11 0.12 0.13 0.18 \n",
      "0.15 0.12 0.16 1.0 0.08 0.22 0.06 0.11 0.08 0.13 \n",
      "0.08 0.12 0.15 0.08 1.0 0.15 0.09 0.05 0.13 0.12 \n",
      "0.1 0.07 0.16 0.22 0.15 1.0 0.1 0.05 0.07 0.13 \n",
      "0.04 0.07 0.11 0.06 0.09 0.1 1.0 0.1 0.07 0.07 \n",
      "0.1 0.12 0.12 0.11 0.05 0.05 0.1 1.0 0.08 0.12 \n",
      "0.11 0.13 0.13 0.08 0.13 0.07 0.07 0.08 1.0 0.12 \n",
      "0.22 0.14 0.18 0.13 0.12 0.13 0.07 0.12 0.12 1.0 \n"
     ]
    }
   ],
   "source": [
    "similarity_mat = [[0 for x in range(10)] for x in range(10)]\n",
    "for i in range(10):\n",
    "    for j in range(10):\n",
    "        similarity_mat[i][j] = (cosine_similarity(sklearn_representation.toarray()[i], sklearn_representation.toarray()[j]))\n",
    "similarity_mat = np.around(similarity_mat, decimals=2)        \n",
    "\n",
    "for row in similarity_mat:\n",
    "    for elem in row:\n",
    "        print(elem, end=' ')\n",
    "    print()"
   ]
  },
  {
   "cell_type": "code",
   "execution_count": 141,
   "metadata": {},
   "outputs": [
    {
     "data": {
      "text/plain": [
       "<matplotlib.axes._subplots.AxesSubplot at 0x1f347277a58>"
      ]
     },
     "execution_count": 141,
     "metadata": {},
     "output_type": "execute_result"
    },
    {
     "data": {
      "image/png": "[encoded data removed]",
      "text/plain": [
       "<matplotlib.figure.Figure at 0x1f346a7acf8>"
      ]
     },
     "metadata": {},
     "output_type": "display_data"
    }
   ],
   "source": [
    "plt.figure(figsize=[15,10])\n",
    "sns.heatmap(similarity_mat)"
   ]
  },
  {
   "cell_type": "code",
   "execution_count": 161,
   "metadata": {},
   "outputs": [],
   "source": [
    "tokenized_lyrics = []\n",
    "for t in range(10):\n",
    "    tokenized_lyrics.append(tokenize(lyrics[t]))"
   ]
  },
  {
   "cell_type": "code",
   "execution_count": 221,
   "metadata": {},
   "outputs": [
    {
     "ename": "AttributeError",
     "evalue": "'list' object has no attribute 'lower'",
     "output_type": "error",
     "traceback": [
      "\u001b[1;31m---------------------------------------------------------------------------\u001b[0m",
      "\u001b[1;31mAttributeError\u001b[0m                            Traceback (most recent call last)",
      "\u001b[1;32m<ipython-input-221-0dc217999e4b>\u001b[0m in \u001b[0;36m<module>\u001b[1;34m()\u001b[0m\n\u001b[0;32m      4\u001b[0m \u001b[1;32mfor\u001b[0m \u001b[0msong\u001b[0m \u001b[1;32min\u001b[0m \u001b[0mtokenized_lyrics\u001b[0m\u001b[1;33m:\u001b[0m\u001b[1;33m\u001b[0m\u001b[0m\n\u001b[0;32m      5\u001b[0m     \u001b[0mswremoved_lyrics\u001b[0m\u001b[1;33m.\u001b[0m\u001b[0mappend\u001b[0m\u001b[1;33m(\u001b[0m\u001b[1;33m[\u001b[0m\u001b[0mword\u001b[0m \u001b[1;32mfor\u001b[0m \u001b[0mword\u001b[0m \u001b[1;32min\u001b[0m \u001b[0msong\u001b[0m \u001b[1;32mif\u001b[0m \u001b[0mword\u001b[0m \u001b[1;32mnot\u001b[0m \u001b[1;32min\u001b[0m \u001b[0mstopwords\u001b[0m\u001b[1;33m.\u001b[0m\u001b[0mwords\u001b[0m\u001b[1;33m(\u001b[0m\u001b[1;34m'english'\u001b[0m\u001b[1;33m)\u001b[0m\u001b[1;33m]\u001b[0m\u001b[1;33m)\u001b[0m\u001b[1;33m\u001b[0m\u001b[0m\n\u001b[1;32m----> 6\u001b[1;33m     \u001b[0mstemmed_lyrics\u001b[0m \u001b[1;33m=\u001b[0m \u001b[1;33m[\u001b[0m\u001b[0mporter\u001b[0m\u001b[1;33m.\u001b[0m\u001b[0mstem\u001b[0m\u001b[1;33m(\u001b[0m\u001b[0mword\u001b[0m\u001b[1;33m)\u001b[0m \u001b[1;32mfor\u001b[0m \u001b[0mword\u001b[0m \u001b[1;32min\u001b[0m \u001b[0mswremoved_lyrics\u001b[0m\u001b[1;33m]\u001b[0m\u001b[1;33m\u001b[0m\u001b[0m\n\u001b[0m\u001b[0;32m      7\u001b[0m     \u001b[0mfinal_lyrics\u001b[0m\u001b[1;33m.\u001b[0m\u001b[0mappend\u001b[0m\u001b[1;33m(\u001b[0m\u001b[0mstemmed_lyrics\u001b[0m\u001b[1;33m)\u001b[0m\u001b[1;33m\u001b[0m\u001b[0m\n",
      "\u001b[1;32m<ipython-input-221-0dc217999e4b>\u001b[0m in \u001b[0;36m<listcomp>\u001b[1;34m(.0)\u001b[0m\n\u001b[0;32m      4\u001b[0m \u001b[1;32mfor\u001b[0m \u001b[0msong\u001b[0m \u001b[1;32min\u001b[0m \u001b[0mtokenized_lyrics\u001b[0m\u001b[1;33m:\u001b[0m\u001b[1;33m\u001b[0m\u001b[0m\n\u001b[0;32m      5\u001b[0m     \u001b[0mswremoved_lyrics\u001b[0m\u001b[1;33m.\u001b[0m\u001b[0mappend\u001b[0m\u001b[1;33m(\u001b[0m\u001b[1;33m[\u001b[0m\u001b[0mword\u001b[0m \u001b[1;32mfor\u001b[0m \u001b[0mword\u001b[0m \u001b[1;32min\u001b[0m \u001b[0msong\u001b[0m \u001b[1;32mif\u001b[0m \u001b[0mword\u001b[0m \u001b[1;32mnot\u001b[0m \u001b[1;32min\u001b[0m \u001b[0mstopwords\u001b[0m\u001b[1;33m.\u001b[0m\u001b[0mwords\u001b[0m\u001b[1;33m(\u001b[0m\u001b[1;34m'english'\u001b[0m\u001b[1;33m)\u001b[0m\u001b[1;33m]\u001b[0m\u001b[1;33m)\u001b[0m\u001b[1;33m\u001b[0m\u001b[0m\n\u001b[1;32m----> 6\u001b[1;33m     \u001b[0mstemmed_lyrics\u001b[0m \u001b[1;33m=\u001b[0m \u001b[1;33m[\u001b[0m\u001b[0mporter\u001b[0m\u001b[1;33m.\u001b[0m\u001b[0mstem\u001b[0m\u001b[1;33m(\u001b[0m\u001b[0mword\u001b[0m\u001b[1;33m)\u001b[0m \u001b[1;32mfor\u001b[0m \u001b[0mword\u001b[0m \u001b[1;32min\u001b[0m \u001b[0mswremoved_lyrics\u001b[0m\u001b[1;33m]\u001b[0m\u001b[1;33m\u001b[0m\u001b[0m\n\u001b[0m\u001b[0;32m      7\u001b[0m     \u001b[0mfinal_lyrics\u001b[0m\u001b[1;33m.\u001b[0m\u001b[0mappend\u001b[0m\u001b[1;33m(\u001b[0m\u001b[0mstemmed_lyrics\u001b[0m\u001b[1;33m)\u001b[0m\u001b[1;33m\u001b[0m\u001b[0m\n",
      "\u001b[1;32mC:\\Users\\user\\Anaconda3\\lib\\site-packages\\nltk\\stem\\porter.py\u001b[0m in \u001b[0;36mstem\u001b[1;34m(self, word)\u001b[0m\n\u001b[0;32m    652\u001b[0m \u001b[1;33m\u001b[0m\u001b[0m\n\u001b[0;32m    653\u001b[0m     \u001b[1;32mdef\u001b[0m \u001b[0mstem\u001b[0m\u001b[1;33m(\u001b[0m\u001b[0mself\u001b[0m\u001b[1;33m,\u001b[0m \u001b[0mword\u001b[0m\u001b[1;33m)\u001b[0m\u001b[1;33m:\u001b[0m\u001b[1;33m\u001b[0m\u001b[0m\n\u001b[1;32m--> 654\u001b[1;33m         \u001b[0mstem\u001b[0m \u001b[1;33m=\u001b[0m \u001b[0mword\u001b[0m\u001b[1;33m.\u001b[0m\u001b[0mlower\u001b[0m\u001b[1;33m(\u001b[0m\u001b[1;33m)\u001b[0m\u001b[1;33m\u001b[0m\u001b[0m\n\u001b[0m\u001b[0;32m    655\u001b[0m \u001b[1;33m\u001b[0m\u001b[0m\n\u001b[0;32m    656\u001b[0m         \u001b[1;32mif\u001b[0m \u001b[0mself\u001b[0m\u001b[1;33m.\u001b[0m\u001b[0mmode\u001b[0m \u001b[1;33m==\u001b[0m \u001b[0mself\u001b[0m\u001b[1;33m.\u001b[0m\u001b[0mNLTK_EXTENSIONS\u001b[0m \u001b[1;32mand\u001b[0m \u001b[0mword\u001b[0m \u001b[1;32min\u001b[0m \u001b[0mself\u001b[0m\u001b[1;33m.\u001b[0m\u001b[0mpool\u001b[0m\u001b[1;33m:\u001b[0m\u001b[1;33m\u001b[0m\u001b[0m\n",
      "\u001b[1;31mAttributeError\u001b[0m: 'list' object has no attribute 'lower'"
     ]
    }
   ],
   "source": [
    "porter = nltk.PorterStemmer()\n",
    "final_lyrics = []\n",
    "swremoved_lyrics = []\n",
    "for song in tokenized_lyrics:\n",
    "    swremoved_lyrics.append([word for word in song if word not in stopwords.words('english')])\n",
    "    stemmed_lyrics = [porter.stem(word) for word in swremoved_lyrics]\n",
    "    final_lyrics.append(stemmed_lyrics)"
   ]
  },
  {
   "cell_type": "code",
   "execution_count": 220,
   "metadata": {},
   "outputs": [
    {
     "data": {
      "text/plain": [
       "[\"workin'\",\n",
       " 'seven',\n",
       " 'eleven',\n",
       " 'every',\n",
       " 'night',\n",
       " '',\n",
       " 'really',\n",
       " 'makes',\n",
       " 'life',\n",
       " 'drag',\n",
       " '',\n",
       " \"don't\",\n",
       " 'think',\n",
       " \"that's\",\n",
       " 'right',\n",
       " \"i've\",\n",
       " 'really',\n",
       " 'best',\n",
       " 'fools',\n",
       " '',\n",
       " 'could,',\n",
       " 'yeah',\n",
       " '',\n",
       " \"'cause\",\n",
       " 'love',\n",
       " 'you,',\n",
       " 'baby',\n",
       " '',\n",
       " 'love',\n",
       " 'you,',\n",
       " 'darling',\n",
       " '',\n",
       " 'love',\n",
       " 'you,',\n",
       " 'baby',\n",
       " '',\n",
       " 'beloved',\n",
       " 'little',\n",
       " 'girl,',\n",
       " 'little',\n",
       " 'girl',\n",
       " 'baby,',\n",
       " 'since',\n",
       " \"i've\",\n",
       " 'loving',\n",
       " 'you,',\n",
       " 'yeah',\n",
       " '',\n",
       " \"i'm\",\n",
       " 'lose',\n",
       " 'worried',\n",
       " 'mind,',\n",
       " 'oh',\n",
       " 'yeah',\n",
       " 'everybody',\n",
       " 'trying',\n",
       " 'tell',\n",
       " '',\n",
       " \"didn't\",\n",
       " 'mean',\n",
       " 'good',\n",
       " \"i've\",\n",
       " 'trying,',\n",
       " 'lord,',\n",
       " 'let',\n",
       " 'tell',\n",
       " 'let',\n",
       " 'tell',\n",
       " 'really',\n",
       " 'best',\n",
       " 'could',\n",
       " '',\n",
       " \"i've\",\n",
       " 'working',\n",
       " 'seven',\n",
       " 'eleven',\n",
       " 'every',\n",
       " 'night',\n",
       " 'said',\n",
       " 'kinda',\n",
       " 'makes',\n",
       " 'life',\n",
       " 'drag',\n",
       " '',\n",
       " 'lord,',\n",
       " \"ain't\",\n",
       " 'right,',\n",
       " '',\n",
       " 'since',\n",
       " \"i've\",\n",
       " 'loving',\n",
       " '',\n",
       " \"i'm\",\n",
       " 'lose',\n",
       " 'worried',\n",
       " 'mind',\n",
       " 'watch',\n",
       " 'said',\n",
       " \"i've\",\n",
       " 'crying,',\n",
       " 'yeah',\n",
       " 'oh,',\n",
       " 'tears',\n",
       " 'fell',\n",
       " 'like',\n",
       " 'rain',\n",
       " \"don't\",\n",
       " 'hear,',\n",
       " \"don't\",\n",
       " 'hear',\n",
       " 'falling',\n",
       " '',\n",
       " \"don't\",\n",
       " 'hear,',\n",
       " \"don't\",\n",
       " 'hear',\n",
       " 'falling',\n",
       " 'remember,',\n",
       " 'mama,',\n",
       " 'knocked',\n",
       " 'upon',\n",
       " 'door?',\n",
       " '',\n",
       " 'said',\n",
       " 'nerve',\n",
       " 'tell',\n",
       " '',\n",
       " \"didn't\",\n",
       " 'want',\n",
       " 'more,',\n",
       " 'yeah',\n",
       " '',\n",
       " 'open',\n",
       " 'front',\n",
       " 'door,',\n",
       " 'hear',\n",
       " 'back',\n",
       " 'door',\n",
       " 'slam',\n",
       " 'know,',\n",
       " 'must',\n",
       " 'one',\n",
       " 'new',\n",
       " 'fangled',\n",
       " 'new',\n",
       " 'fangled',\n",
       " 'back',\n",
       " 'door',\n",
       " 'man',\n",
       " \"i've\",\n",
       " 'working',\n",
       " 'seven,',\n",
       " 'seven,',\n",
       " 'seven',\n",
       " 'eleven',\n",
       " 'every',\n",
       " 'night',\n",
       " 'kinda',\n",
       " 'makes',\n",
       " 'life',\n",
       " 'drag,',\n",
       " 'drag,',\n",
       " 'drag',\n",
       " '',\n",
       " 'ah,',\n",
       " 'yeah,',\n",
       " 'makes',\n",
       " 'drag',\n",
       " 'baby,',\n",
       " 'since',\n",
       " \"i've\",\n",
       " 'loving',\n",
       " \"i'm\",\n",
       " 'lose',\n",
       " \"i'm\",\n",
       " 'lose,',\n",
       " 'lose',\n",
       " 'worried',\n",
       " 'mind',\n",
       " '',\n",
       " 'one',\n",
       " 'more,',\n",
       " 'one',\n",
       " 'more,',\n",
       " 'oh',\n",
       " 'yeah',\n",
       " 'since',\n",
       " \"i've\",\n",
       " 'loving',\n",
       " 'you,',\n",
       " \"i'm\",\n",
       " 'lose',\n",
       " 'worried',\n",
       " 'mind']"
      ]
     },
     "execution_count": 220,
     "metadata": {},
     "output_type": "execute_result"
    }
   ],
   "source": [
    "swremoved_lyrics[0]"
   ]
  },
  {
   "cell_type": "code",
   "execution_count": 194,
   "metadata": {},
   "outputs": [],
   "source": [
    "sklearn_tfidf = TfidfVectorizer(norm='l2',min_df=0, use_idf=True, smooth_idf=False, sublinear_tf=True, tokenizer=tokenize)\n",
    "\n",
    "for song in final_lyrics:\n",
    "    sklearn_representation = sklearn_tfidf.fit_transform(song)"
   ]
  },
  {
   "cell_type": "code",
   "execution_count": 189,
   "metadata": {},
   "outputs": [
    {
     "name": "stdout",
     "output_type": "stream",
     "text": [
      "1.0 0.0 0.0 0.0 0.0 1.0 0.0 0.0 0.0 0.0 \n",
      "0.0 1.0 0.0 0.0 0.0 0.0 1.0 0.0 0.0 0.0 \n",
      "0.0 0.0 1.0 0.0 0.0 0.0 0.0 0.0 0.0 0.0 \n",
      "0.0 0.0 0.0 1.0 0.0 0.0 0.0 0.0 0.0 0.0 \n",
      "0.0 0.0 0.0 0.0 1.0 0.0 0.0 0.0 0.0 0.0 \n",
      "1.0 0.0 0.0 0.0 0.0 1.0 0.0 0.0 0.0 0.0 \n",
      "0.0 1.0 0.0 0.0 0.0 0.0 1.0 0.0 0.0 0.0 \n",
      "0.0 0.0 0.0 0.0 0.0 0.0 0.0 1.0 0.0 0.0 \n",
      "0.0 0.0 0.0 0.0 0.0 0.0 0.0 0.0 1.0 0.0 \n",
      "0.0 0.0 0.0 0.0 0.0 0.0 0.0 0.0 0.0 1.0 \n"
     ]
    }
   ],
   "source": [
    "similarity_mat = [[0 for x in range(10)] for x in range(10)]\n",
    "for i in range(10):\n",
    "    for j in range(10):\n",
    "        similarity_mat[i][j] = (cosine_similarity(sklearn_representation.toarray()[i], sklearn_representation.toarray()[j]))\n",
    "similarity_mat = np.around(similarity_mat, decimals=2)        \n",
    "\n",
    "for row in similarity_mat:\n",
    "    for elem in row:\n",
    "        print(elem, end=' ')\n",
    "    print()"
   ]
  },
  {
   "cell_type": "code",
   "execution_count": null,
   "metadata": {
    "collapsed": true
   },
   "outputs": [],
   "source": []
  },
  {
   "cell_type": "code",
   "execution_count": null,
   "metadata": {
    "collapsed": true
   },
   "outputs": [],
   "source": []
  },
  {
   "cell_type": "code",
   "execution_count": 139,
   "metadata": {
    "collapsed": true
   },
   "outputs": [],
   "source": [
    "from nltk.corpus import treebank, stopwords\n",
    "from nltk import ConditionalFreqDist \n",
    "\n",
    "cfd = ConditionalFreqDist()\n",
    "\n",
    "stopwords_list = stopwords.words('english')\n",
    "\n",
    "def is_noun(tag):\n",
    "    return tag.lower() in ['nn','nns','nn$','nn-tl','nn+bez', 'nn+hvz', \n",
    "                           'nns$','np','np$','np+bez','nps', 'nps$','nr',\n",
    "                           'np-tl','nrs','nr$']\n",
    "\n",
    "for sentence in treebank.tagged_sents():\n",
    "    for (index, tagtuple) in enumerate(sentence):\n",
    "        (token, tag) = tagtuple\n",
    "        token = token.lower()\n",
    "        if token not in stopwords_list and is_noun(tag):\n",
    "            window = sentence[index+1:index+5]\n",
    "            for (window_token, window_tag) in window:\n",
    "                window_token = window_token.lower()\n",
    "                if window_token not in stopwords_list and is_noun(window_tag):\n",
    "                    cfd[token][window_token] += 1"
   ]
  },
  {
   "cell_type": "code",
   "execution_count": 140,
   "metadata": {},
   "outputs": [
    {
     "name": "stdout",
     "output_type": "stream",
     "text": [
      "chief \n",
      " % \n",
      " chief \n",
      " interest \n",
      " streets \n",
      " officer\n"
     ]
    }
   ],
   "source": [
    "\n",
    "print(cfd['chairman'].max(), '\\n', cfd['profit'].max(), '\\n', cfd['president'].max(), '\\n', cfd['investor'].max(), '\\n',\n",
    "      cfd['city'].max(), '\\n', cfd['chief'].max())"
   ]
  }
 ],
 "metadata": {
  "kernelspec": {
   "display_name": "Python 3",
   "language": "python",
   "name": "python3"
  },
  "language_info": {
   "codemirror_mode": {
    "name": "ipython",
    "version": 3
   },
   "file_extension": ".py",
   "mimetype": "text/x-python",
   "name": "python",
   "nbconvert_exporter": "python",
   "pygments_lexer": "ipython3",
   "version": "3.6.1"
  }
 },
 "nbformat": 4,
 "nbformat_minor": 2
}
