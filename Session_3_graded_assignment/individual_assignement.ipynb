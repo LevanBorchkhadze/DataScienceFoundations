{
 "cells": [
  {
   "cell_type": "code",
   "execution_count": 242,
   "metadata": {
    "collapsed": true
   },
   "outputs": [],
   "source": [
    "import sqlite3\n",
    "from sqlite3 import Error\n",
    "import pandas as pd\n",
    "import numpy as np\n",
    "from collections import Counter\n",
    "import seaborn as sns\n",
    "import matplotlib.pyplot as plt\n",
    "%matplotlib inline"
   ]
  },
  {
   "cell_type": "code",
   "execution_count": 80,
   "metadata": {
    "collapsed": true
   },
   "outputs": [],
   "source": [
    "def create_connection(db_file):\n",
    "    \"\"\" \n",
    "    Create a database connection to the SQLite database specified by the db_file\n",
    "    \n",
    "    :param db_file: database file\n",
    "    :return: the Connection object or None\n",
    "    \"\"\"\n",
    "    try:\n",
    "        conn = sqlite3.connect(db_file)\n",
    "        return conn\n",
    "    except Error as e:\n",
    "        print(e)\n",
    " \n",
    "    return None"
   ]
  },
  {
   "cell_type": "code",
   "execution_count": 81,
   "metadata": {},
   "outputs": [
    {
     "name": "stdout",
     "output_type": "stream",
     "text": [
      "<class 'pandas.core.frame.DataFrame'>\n",
      "RangeIndex: 5043 entries, 0 to 5042\n",
      "Data columns (total 28 columns):\n",
      "color                        5043 non-null object\n",
      "director_name                5043 non-null object\n",
      "num_critic_for_reviews       5043 non-null int64\n",
      "duration                     5043 non-null float64\n",
      "director_facebook_likes      5043 non-null float64\n",
      "actor_3_facebook_likes       5043 non-null float64\n",
      "actor_2_name                 5043 non-null object\n",
      "actor_1_facebook_likes       5043 non-null float64\n",
      "gross                        5043 non-null float64\n",
      "genres                       5043 non-null object\n",
      "actor_1_name                 5043 non-null object\n",
      "movie_title                  5043 non-null object\n",
      "num_voted_users              5043 non-null float64\n",
      "cast_total_facebook_likes    5043 non-null float64\n",
      "actor_3_name                 5043 non-null object\n",
      "facenumber_in_poster         5043 non-null object\n",
      "plot_keywords                5043 non-null object\n",
      "movie_imdb_link              5043 non-null object\n",
      "num_user_for_reviews         5043 non-null int64\n",
      "language                     5043 non-null object\n",
      "country                      5043 non-null object\n",
      "content_rating               5043 non-null object\n",
      "budget                       5043 non-null float64\n",
      "title_year                   5043 non-null int64\n",
      "actor_2_facebook_likes       5043 non-null float64\n",
      "imdb_score                   5043 non-null float64\n",
      "aspect_ratio                 5043 non-null float64\n",
      "movie_facebook_likes         5043 non-null float64\n",
      "dtypes: float64(12), int64(3), object(13)\n",
      "memory usage: 1.1+ MB\n"
     ]
    }
   ],
   "source": [
    "# SUBSTITUTE THIS PATH BY THE CORRECT PATH ON YOUR LOCAL FILE SYSTEM\n",
    "database = \"C:/Users/user/Desktop/BTS/Master/1st_Semester/Data Science Foundations/DataScienceFoundations/Session_3_graded_assignment/imdb.db\"\n",
    "\n",
    "# Create a database connection\n",
    "conn = create_connection(database)\n",
    "\n",
    "#N = 10\n",
    "query = \"SELECT * FROM movie_metadata\"#.format(N)\n",
    "imdb = pd.read_sql_query(query, conn)\n",
    "\n",
    "conn.close()\n",
    "\n",
    "imdb.info()"
   ]
  },
  {
   "cell_type": "markdown",
   "metadata": {},
   "source": [
    "### Cleaning the data: removing columns that won't be used, movies that has number of votes less that 8000 and movies with no gross values"
   ]
  },
  {
   "cell_type": "code",
   "execution_count": 189,
   "metadata": {
    "collapsed": true
   },
   "outputs": [],
   "source": [
    "df = imdb[['movie_title', 'title_year', 'imdb_score', 'duration', 'director_name', 'actor_1_name', 'actor_2_name', 'actor_3_name', 'gross', 'budget', 'genres', 'num_voted_users', 'num_user_for_reviews']]"
   ]
  },
  {
   "cell_type": "code",
   "execution_count": 293,
   "metadata": {},
   "outputs": [
    {
     "data": {
      "text/html": [
       "<div>\n",
       "<style>\n",
       "    .dataframe thead tr:only-child th {\n",
       "        text-align: right;\n",
       "    }\n",
       "\n",
       "    .dataframe thead th {\n",
       "        text-align: left;\n",
       "    }\n",
       "\n",
       "    .dataframe tbody tr th {\n",
       "        vertical-align: top;\n",
       "    }\n",
       "</style>\n",
       "<table border=\"1\" class=\"dataframe\">\n",
       "  <thead>\n",
       "    <tr style=\"text-align: right;\">\n",
       "      <th></th>\n",
       "      <th>movie_title</th>\n",
       "      <th>title_year</th>\n",
       "      <th>imdb_score</th>\n",
       "      <th>duration</th>\n",
       "      <th>director_name</th>\n",
       "      <th>actor_1_name</th>\n",
       "      <th>actor_2_name</th>\n",
       "      <th>actor_3_name</th>\n",
       "      <th>gross</th>\n",
       "      <th>budget</th>\n",
       "      <th>genres</th>\n",
       "      <th>num_voted_users</th>\n",
       "      <th>num_user_for_reviews</th>\n",
       "      <th>profit</th>\n",
       "    </tr>\n",
       "  </thead>\n",
       "  <tbody>\n",
       "    <tr>\n",
       "      <th>0</th>\n",
       "      <td>Avatar</td>\n",
       "      <td>2009</td>\n",
       "      <td>7.9</td>\n",
       "      <td>178.0</td>\n",
       "      <td>James Cameron</td>\n",
       "      <td>CCH Pounder</td>\n",
       "      <td>Joel David Moore</td>\n",
       "      <td>Wes Studi</td>\n",
       "      <td>760505847.0</td>\n",
       "      <td>237000000.0</td>\n",
       "      <td>Action|Adventure|Fantasy|Sci-Fi</td>\n",
       "      <td>886204.0</td>\n",
       "      <td>3054</td>\n",
       "      <td>523505847.0</td>\n",
       "    </tr>\n",
       "    <tr>\n",
       "      <th>1</th>\n",
       "      <td>Pirates of the Caribbean: At World's End</td>\n",
       "      <td>2007</td>\n",
       "      <td>7.1</td>\n",
       "      <td>169.0</td>\n",
       "      <td>Gore Verbinski</td>\n",
       "      <td>Johnny Depp</td>\n",
       "      <td>Orlando Bloom</td>\n",
       "      <td>Jack Davenport</td>\n",
       "      <td>309404152.0</td>\n",
       "      <td>300000000.0</td>\n",
       "      <td>Action|Adventure|Fantasy</td>\n",
       "      <td>471220.0</td>\n",
       "      <td>1238</td>\n",
       "      <td>9404152.0</td>\n",
       "    </tr>\n",
       "    <tr>\n",
       "      <th>2</th>\n",
       "      <td>Spectre</td>\n",
       "      <td>2015</td>\n",
       "      <td>6.8</td>\n",
       "      <td>148.0</td>\n",
       "      <td>Sam Mendes</td>\n",
       "      <td>Christoph Waltz</td>\n",
       "      <td>Rory Kinnear</td>\n",
       "      <td>Stephanie Sigman</td>\n",
       "      <td>200074175.0</td>\n",
       "      <td>245000000.0</td>\n",
       "      <td>Action|Adventure|Thriller</td>\n",
       "      <td>275868.0</td>\n",
       "      <td>994</td>\n",
       "      <td>-44925825.0</td>\n",
       "    </tr>\n",
       "    <tr>\n",
       "      <th>3</th>\n",
       "      <td>The Dark Knight Rises</td>\n",
       "      <td>2012</td>\n",
       "      <td>8.5</td>\n",
       "      <td>164.0</td>\n",
       "      <td>Christopher Nolan</td>\n",
       "      <td>Tom Hardy</td>\n",
       "      <td>Christian Bale</td>\n",
       "      <td>Joseph Gordon-Levitt</td>\n",
       "      <td>448130642.0</td>\n",
       "      <td>250000000.0</td>\n",
       "      <td>Action|Thriller</td>\n",
       "      <td>1144337.0</td>\n",
       "      <td>2701</td>\n",
       "      <td>198130642.0</td>\n",
       "    </tr>\n",
       "    <tr>\n",
       "      <th>5</th>\n",
       "      <td>John Carter</td>\n",
       "      <td>2012</td>\n",
       "      <td>6.6</td>\n",
       "      <td>132.0</td>\n",
       "      <td>Andrew Stanton</td>\n",
       "      <td>Daryl Sabara</td>\n",
       "      <td>Samantha Morton</td>\n",
       "      <td>Polly Walker</td>\n",
       "      <td>73058679.0</td>\n",
       "      <td>263700000.0</td>\n",
       "      <td>Action|Adventure|Sci-Fi</td>\n",
       "      <td>212204.0</td>\n",
       "      <td>738</td>\n",
       "      <td>-190641321.0</td>\n",
       "    </tr>\n",
       "  </tbody>\n",
       "</table>\n",
       "</div>"
      ],
      "text/plain": [
       "                                movie_title  title_year  imdb_score  duration  \\\n",
       "0                                    Avatar        2009         7.9     178.0   \n",
       "1  Pirates of the Caribbean: At World's End        2007         7.1     169.0   \n",
       "2                                   Spectre        2015         6.8     148.0   \n",
       "3                     The Dark Knight Rises        2012         8.5     164.0   \n",
       "5                               John Carter        2012         6.6     132.0   \n",
       "\n",
       "       director_name     actor_1_name      actor_2_name          actor_3_name  \\\n",
       "0      James Cameron      CCH Pounder  Joel David Moore             Wes Studi   \n",
       "1     Gore Verbinski      Johnny Depp     Orlando Bloom        Jack Davenport   \n",
       "2         Sam Mendes  Christoph Waltz      Rory Kinnear      Stephanie Sigman   \n",
       "3  Christopher Nolan        Tom Hardy    Christian Bale  Joseph Gordon-Levitt   \n",
       "5     Andrew Stanton     Daryl Sabara   Samantha Morton          Polly Walker   \n",
       "\n",
       "         gross       budget                           genres  num_voted_users  \\\n",
       "0  760505847.0  237000000.0  Action|Adventure|Fantasy|Sci-Fi         886204.0   \n",
       "1  309404152.0  300000000.0         Action|Adventure|Fantasy         471220.0   \n",
       "2  200074175.0  245000000.0        Action|Adventure|Thriller         275868.0   \n",
       "3  448130642.0  250000000.0                  Action|Thriller        1144337.0   \n",
       "5   73058679.0  263700000.0          Action|Adventure|Sci-Fi         212204.0   \n",
       "\n",
       "   num_user_for_reviews       profit  \n",
       "0                  3054  523505847.0  \n",
       "1                  1238    9404152.0  \n",
       "2                   994  -44925825.0  \n",
       "3                  2701  198130642.0  \n",
       "5                   738 -190641321.0  "
      ]
     },
     "execution_count": 293,
     "metadata": {},
     "output_type": "execute_result"
    }
   ],
   "source": [
    "df = df[(df['num_voted_users'] > 8000) & (df['gross'] > 0)]\n",
    "df = df[df['director_name'].map(len) > 1]\n",
    "df['profit'] = df['gross'] - df['budget']\n",
    "df.head()"
   ]
  },
  {
   "cell_type": "markdown",
   "metadata": {},
   "source": [
    "### check correlation matrix of data frame"
   ]
  },
  {
   "cell_type": "code",
   "execution_count": 294,
   "metadata": {},
   "outputs": [
    {
     "data": {
      "text/html": [
       "<div>\n",
       "<style>\n",
       "    .dataframe thead tr:only-child th {\n",
       "        text-align: right;\n",
       "    }\n",
       "\n",
       "    .dataframe thead th {\n",
       "        text-align: left;\n",
       "    }\n",
       "\n",
       "    .dataframe tbody tr th {\n",
       "        vertical-align: top;\n",
       "    }\n",
       "</style>\n",
       "<table border=\"1\" class=\"dataframe\">\n",
       "  <thead>\n",
       "    <tr style=\"text-align: right;\">\n",
       "      <th></th>\n",
       "      <th>title_year</th>\n",
       "      <th>imdb_score</th>\n",
       "      <th>duration</th>\n",
       "      <th>gross</th>\n",
       "      <th>budget</th>\n",
       "      <th>num_voted_users</th>\n",
       "      <th>num_user_for_reviews</th>\n",
       "      <th>profit</th>\n",
       "    </tr>\n",
       "  </thead>\n",
       "  <tbody>\n",
       "    <tr>\n",
       "      <th>title_year</th>\n",
       "      <td>1.000000</td>\n",
       "      <td>-0.162945</td>\n",
       "      <td>-0.144377</td>\n",
       "      <td>0.023604</td>\n",
       "      <td>0.043264</td>\n",
       "      <td>-0.006890</td>\n",
       "      <td>-0.011091</td>\n",
       "      <td>-0.035273</td>\n",
       "    </tr>\n",
       "    <tr>\n",
       "      <th>imdb_score</th>\n",
       "      <td>-0.162945</td>\n",
       "      <td>1.000000</td>\n",
       "      <td>0.365534</td>\n",
       "      <td>0.181171</td>\n",
       "      <td>0.018436</td>\n",
       "      <td>0.473016</td>\n",
       "      <td>0.301941</td>\n",
       "      <td>0.037486</td>\n",
       "    </tr>\n",
       "    <tr>\n",
       "      <th>duration</th>\n",
       "      <td>-0.144377</td>\n",
       "      <td>0.365534</td>\n",
       "      <td>1.000000</td>\n",
       "      <td>0.232503</td>\n",
       "      <td>0.057979</td>\n",
       "      <td>0.332449</td>\n",
       "      <td>0.343301</td>\n",
       "      <td>0.014379</td>\n",
       "    </tr>\n",
       "    <tr>\n",
       "      <th>gross</th>\n",
       "      <td>0.023604</td>\n",
       "      <td>0.181171</td>\n",
       "      <td>0.232503</td>\n",
       "      <td>1.000000</td>\n",
       "      <td>0.099437</td>\n",
       "      <td>0.609194</td>\n",
       "      <td>0.523775</td>\n",
       "      <td>0.209191</td>\n",
       "    </tr>\n",
       "    <tr>\n",
       "      <th>budget</th>\n",
       "      <td>0.043264</td>\n",
       "      <td>0.018436</td>\n",
       "      <td>0.057979</td>\n",
       "      <td>0.099437</td>\n",
       "      <td>1.000000</td>\n",
       "      <td>0.063867</td>\n",
       "      <td>0.068043</td>\n",
       "      <td>-0.952227</td>\n",
       "    </tr>\n",
       "    <tr>\n",
       "      <th>num_voted_users</th>\n",
       "      <td>-0.006890</td>\n",
       "      <td>0.473016</td>\n",
       "      <td>0.332449</td>\n",
       "      <td>0.609194</td>\n",
       "      <td>0.063867</td>\n",
       "      <td>1.000000</td>\n",
       "      <td>0.768250</td>\n",
       "      <td>0.124204</td>\n",
       "    </tr>\n",
       "    <tr>\n",
       "      <th>num_user_for_reviews</th>\n",
       "      <td>-0.011091</td>\n",
       "      <td>0.301941</td>\n",
       "      <td>0.343301</td>\n",
       "      <td>0.523775</td>\n",
       "      <td>0.068043</td>\n",
       "      <td>0.768250</td>\n",
       "      <td>1.000000</td>\n",
       "      <td>0.093884</td>\n",
       "    </tr>\n",
       "    <tr>\n",
       "      <th>profit</th>\n",
       "      <td>-0.035273</td>\n",
       "      <td>0.037486</td>\n",
       "      <td>0.014379</td>\n",
       "      <td>0.209191</td>\n",
       "      <td>-0.952227</td>\n",
       "      <td>0.124204</td>\n",
       "      <td>0.093884</td>\n",
       "      <td>1.000000</td>\n",
       "    </tr>\n",
       "  </tbody>\n",
       "</table>\n",
       "</div>"
      ],
      "text/plain": [
       "                      title_year  imdb_score  duration     gross    budget  \\\n",
       "title_year              1.000000   -0.162945 -0.144377  0.023604  0.043264   \n",
       "imdb_score             -0.162945    1.000000  0.365534  0.181171  0.018436   \n",
       "duration               -0.144377    0.365534  1.000000  0.232503  0.057979   \n",
       "gross                   0.023604    0.181171  0.232503  1.000000  0.099437   \n",
       "budget                  0.043264    0.018436  0.057979  0.099437  1.000000   \n",
       "num_voted_users        -0.006890    0.473016  0.332449  0.609194  0.063867   \n",
       "num_user_for_reviews   -0.011091    0.301941  0.343301  0.523775  0.068043   \n",
       "profit                 -0.035273    0.037486  0.014379  0.209191 -0.952227   \n",
       "\n",
       "                      num_voted_users  num_user_for_reviews    profit  \n",
       "title_year                  -0.006890             -0.011091 -0.035273  \n",
       "imdb_score                   0.473016              0.301941  0.037486  \n",
       "duration                     0.332449              0.343301  0.014379  \n",
       "gross                        0.609194              0.523775  0.209191  \n",
       "budget                       0.063867              0.068043 -0.952227  \n",
       "num_voted_users              1.000000              0.768250  0.124204  \n",
       "num_user_for_reviews         0.768250              1.000000  0.093884  \n",
       "profit                       0.124204              0.093884  1.000000  "
      ]
     },
     "execution_count": 294,
     "metadata": {},
     "output_type": "execute_result"
    }
   ],
   "source": [
    "df.corr()"
   ]
  },
  {
   "cell_type": "code",
   "execution_count": 301,
   "metadata": {},
   "outputs": [
    {
     "data": {
      "text/plain": [
       "<matplotlib.axes._subplots.AxesSubplot at 0x2628ee14f98>"
      ]
     },
     "execution_count": 301,
     "metadata": {},
     "output_type": "execute_result"
    },
    {
     "data": {
      "image/png": "[encoded data removed]",
      "text/plain": [
       "<matplotlib.figure.Figure at 0x2628ee6e0f0>"
      ]
     },
     "metadata": {},
     "output_type": "display_data"
    }
   ],
   "source": [
    "# plot heatmap to ilustrate results\n",
    "plt.figure(figsize=[15,10])\n",
    "sns.heatmap(df.corr())"
   ]
  },
  {
   "cell_type": "markdown",
   "metadata": {},
   "source": [
    "### Calculate profit probability for movies with rating higher  than 6.0"
   ]
  },
  {
   "cell_type": "code",
   "execution_count": 459,
   "metadata": {},
   "outputs": [
    {
     "name": "stdout",
     "output_type": "stream",
     "text": [
      "with imdb rating more than 6, probability of profit is: 0.6196\n"
     ]
    }
   ],
   "source": [
    "print('with imdb rating more than 6, probability of profit is:', round(len(df[(df[\"imdb_score\"] > 6.0) & (df['profit'] > 0)]) / len(df[df['imdb_score'] > 6]), 4))\n",
    "# as we can see form result, probability of movie to be profitable with imdb rating more than 6.0 is 0.62"
   ]
  },
  {
   "cell_type": "markdown",
   "metadata": {},
   "source": [
    "### relationship between duration and imdb rating of the movie"
   ]
  },
  {
   "cell_type": "code",
   "execution_count": 315,
   "metadata": {},
   "outputs": [
    {
     "data": {
      "text/plain": [
       "<matplotlib.axes._subplots.AxesSubplot at 0x26298830588>"
      ]
     },
     "execution_count": 315,
     "metadata": {},
     "output_type": "execute_result"
    },
    {
     "data": {
      "image/png": "[encoded data removed]",
      "text/plain": [
       "<matplotlib.figure.Figure at 0x26297ea3b00>"
      ]
     },
     "metadata": {},
     "output_type": "display_data"
    }
   ],
   "source": [
    "plt.figure(figsize=[15,10])\n",
    "sns.stripplot(y='duration', x='imdb_score', data=df)"
   ]
  },
  {
   "cell_type": "markdown",
   "metadata": {},
   "source": [
    "### movie distribution by imdb rating"
   ]
  },
  {
   "cell_type": "code",
   "execution_count": 327,
   "metadata": {},
   "outputs": [
    {
     "data": {
      "text/plain": [
       "<matplotlib.axes._subplots.AxesSubplot at 0x2629059fb70>"
      ]
     },
     "execution_count": 327,
     "metadata": {},
     "output_type": "execute_result"
    },
    {
     "data": {
      "image/png": "[encoded data removed]",
      "text/plain": [
       "<matplotlib.figure.Figure at 0x2629030dfd0>"
      ]
     },
     "metadata": {},
     "output_type": "display_data"
    }
   ],
   "source": [
    "df['CategoricalRating'] = pd.cut(df['imdb_score'], 10) # divide rating of the movie in 10 equal scores too see distribution.\n",
    "plt.figure(figsize=[15,10])\n",
    "sns.countplot(df[\"CategoricalRating\"])"
   ]
  },
  {
   "cell_type": "markdown",
   "metadata": {},
   "source": [
    "### movie distribution by duration"
   ]
  },
  {
   "cell_type": "code",
   "execution_count": 328,
   "metadata": {},
   "outputs": [
    {
     "data": {
      "text/plain": [
       "<matplotlib.axes._subplots.AxesSubplot at 0x262905a8518>"
      ]
     },
     "execution_count": 328,
     "metadata": {},
     "output_type": "execute_result"
    },
    {
     "data": {
      "image/png": "[encoded data removed]",
      "text/plain": [
       "<matplotlib.figure.Figure at 0x2629053b128>"
      ]
     },
     "metadata": {},
     "output_type": "display_data"
    }
   ],
   "source": [
    "df['CategoricalDuration'] = pd.cut(df['duration'], 10) # divide duration of the movie in 10 equal periods too see distribution.\n",
    "plt.figure(figsize=[15,10])\n",
    "sns.countplot(df[\"CategoricalDuration\"])"
   ]
  },
  {
   "cell_type": "markdown",
   "metadata": {},
   "source": [
    "### imdb rating gross dependency by years "
   ]
  },
  {
   "cell_type": "code",
   "execution_count": 329,
   "metadata": {},
   "outputs": [
    {
     "data": {
      "text/plain": [
       "<seaborn.axisgrid.FacetGrid at 0x262906f1eb8>"
      ]
     },
     "execution_count": 329,
     "metadata": {},
     "output_type": "execute_result"
    },
    {
     "data": {
      "image/png": "[encoded data removed]",
      "text/plain": [
       "<matplotlib.figure.Figure at 0x2629033e3c8>"
      ]
     },
     "metadata": {},
     "output_type": "display_data"
    }
   ],
   "source": [
    "df['CategoricalYears'] = pd.cut(df['title_year'], 5) # divide year of the movie in 5 equal periods.\n",
    "g = sns.FacetGrid(df, col=\"CategoricalYears\", margin_titles=True)\n",
    "g.map(plt.scatter, \"imdb_score\", \"gross\")"
   ]
  },
  {
   "cell_type": "markdown",
   "metadata": {},
   "source": [
    "### imdb rating number of votes dependency by years\n",
    "###### to see how the dependency stays more or less the same as number of votes by modern movies increases"
   ]
  },
  {
   "cell_type": "code",
   "execution_count": 332,
   "metadata": {},
   "outputs": [
    {
     "data": {
      "text/plain": [
       "<seaborn.axisgrid.FacetGrid at 0x26290c71e10>"
      ]
     },
     "execution_count": 332,
     "metadata": {},
     "output_type": "execute_result"
    },
    {
     "data": {
      "image/png": "[encoded data removed]",
      "text/plain": [
       "<matplotlib.figure.Figure at 0x2629093ecc0>"
      ]
     },
     "metadata": {},
     "output_type": "display_data"
    }
   ],
   "source": [
    "df['CategoricalYears'] = pd.cut(df['title_year'], 10) # divide year of the movie in 10 equal periods.\n",
    "g = sns.FacetGrid(df, col=\"CategoricalYears\", margin_titles=True)\n",
    "g.map(plt.scatter, \"imdb_score\", \"num_voted_users\")"
   ]
  },
  {
   "cell_type": "markdown",
   "metadata": {},
   "source": [
    "### ten most successfull directors by rating, gross and profit"
   ]
  },
  {
   "cell_type": "code",
   "execution_count": 336,
   "metadata": {},
   "outputs": [
    {
     "data": {
      "text/html": [
       "<div>\n",
       "<style>\n",
       "    .dataframe thead tr:only-child th {\n",
       "        text-align: right;\n",
       "    }\n",
       "\n",
       "    .dataframe thead th {\n",
       "        text-align: left;\n",
       "    }\n",
       "\n",
       "    .dataframe tbody tr th {\n",
       "        vertical-align: top;\n",
       "    }\n",
       "</style>\n",
       "<table border=\"1\" class=\"dataframe\">\n",
       "  <thead>\n",
       "    <tr style=\"text-align: right;\">\n",
       "      <th></th>\n",
       "      <th>director_name</th>\n",
       "      <th>imdb_score</th>\n",
       "      <th>movie_title</th>\n",
       "    </tr>\n",
       "  </thead>\n",
       "  <tbody>\n",
       "    <tr>\n",
       "      <th>1937</th>\n",
       "      <td>Frank Darabont</td>\n",
       "      <td>9.3</td>\n",
       "      <td>The Shawshank Redemption</td>\n",
       "    </tr>\n",
       "    <tr>\n",
       "      <th>3466</th>\n",
       "      <td>Francis Ford Coppola</td>\n",
       "      <td>9.2</td>\n",
       "      <td>The Godfather</td>\n",
       "    </tr>\n",
       "    <tr>\n",
       "      <th>66</th>\n",
       "      <td>Christopher Nolan</td>\n",
       "      <td>9.0</td>\n",
       "      <td>The Dark Knight</td>\n",
       "    </tr>\n",
       "    <tr>\n",
       "      <th>2837</th>\n",
       "      <td>Francis Ford Coppola</td>\n",
       "      <td>9.0</td>\n",
       "      <td>The Godfather: Part II</td>\n",
       "    </tr>\n",
       "    <tr>\n",
       "      <th>4498</th>\n",
       "      <td>Sergio Leone</td>\n",
       "      <td>8.9</td>\n",
       "      <td>The Good, the Bad and the Ugly</td>\n",
       "    </tr>\n",
       "    <tr>\n",
       "      <th>1874</th>\n",
       "      <td>Steven Spielberg</td>\n",
       "      <td>8.9</td>\n",
       "      <td>Schindler's List</td>\n",
       "    </tr>\n",
       "    <tr>\n",
       "      <th>339</th>\n",
       "      <td>Peter Jackson</td>\n",
       "      <td>8.9</td>\n",
       "      <td>The Lord of the Rings: The Return of the King</td>\n",
       "    </tr>\n",
       "    <tr>\n",
       "      <th>3355</th>\n",
       "      <td>Quentin Tarantino</td>\n",
       "      <td>8.9</td>\n",
       "      <td>Pulp Fiction</td>\n",
       "    </tr>\n",
       "    <tr>\n",
       "      <th>270</th>\n",
       "      <td>Peter Jackson</td>\n",
       "      <td>8.8</td>\n",
       "      <td>The Lord of the Rings: The Fellowship of the Ring</td>\n",
       "    </tr>\n",
       "    <tr>\n",
       "      <th>683</th>\n",
       "      <td>David Fincher</td>\n",
       "      <td>8.8</td>\n",
       "      <td>Fight Club</td>\n",
       "    </tr>\n",
       "  </tbody>\n",
       "</table>\n",
       "</div>"
      ],
      "text/plain": [
       "             director_name  imdb_score  \\\n",
       "1937        Frank Darabont         9.3   \n",
       "3466  Francis Ford Coppola         9.2   \n",
       "66       Christopher Nolan         9.0   \n",
       "2837  Francis Ford Coppola         9.0   \n",
       "4498          Sergio Leone         8.9   \n",
       "1874      Steven Spielberg         8.9   \n",
       "339          Peter Jackson         8.9   \n",
       "3355     Quentin Tarantino         8.9   \n",
       "270          Peter Jackson         8.8   \n",
       "683          David Fincher         8.8   \n",
       "\n",
       "                                            movie_title  \n",
       "1937                           The Shawshank Redemption  \n",
       "3466                                      The Godfather  \n",
       "66                                      The Dark Knight  \n",
       "2837                             The Godfather: Part II  \n",
       "4498                     The Good, the Bad and the Ugly  \n",
       "1874                                   Schindler's List  \n",
       "339       The Lord of the Rings: The Return of the King  \n",
       "3355                                       Pulp Fiction  \n",
       "270   The Lord of the Rings: The Fellowship of the Ring  \n",
       "683                                          Fight Club  "
      ]
     },
     "execution_count": 336,
     "metadata": {},
     "output_type": "execute_result"
    }
   ],
   "source": [
    "top_10_direct_rating = df.sort_values('imdb_score', ascending=False).head(10)[['director_name', 'imdb_score', 'movie_title']]\n",
    "top_10_direct_rating"
   ]
  },
  {
   "cell_type": "code",
   "execution_count": 337,
   "metadata": {},
   "outputs": [
    {
     "data": {
      "text/html": [
       "<div>\n",
       "<style>\n",
       "    .dataframe thead tr:only-child th {\n",
       "        text-align: right;\n",
       "    }\n",
       "\n",
       "    .dataframe thead th {\n",
       "        text-align: left;\n",
       "    }\n",
       "\n",
       "    .dataframe tbody tr th {\n",
       "        vertical-align: top;\n",
       "    }\n",
       "</style>\n",
       "<table border=\"1\" class=\"dataframe\">\n",
       "  <thead>\n",
       "    <tr style=\"text-align: right;\">\n",
       "      <th></th>\n",
       "      <th>director_name</th>\n",
       "      <th>gross</th>\n",
       "      <th>movie_title</th>\n",
       "    </tr>\n",
       "  </thead>\n",
       "  <tbody>\n",
       "    <tr>\n",
       "      <th>0</th>\n",
       "      <td>James Cameron</td>\n",
       "      <td>760505847.0</td>\n",
       "      <td>Avatar</td>\n",
       "    </tr>\n",
       "    <tr>\n",
       "      <th>26</th>\n",
       "      <td>James Cameron</td>\n",
       "      <td>658672302.0</td>\n",
       "      <td>Titanic</td>\n",
       "    </tr>\n",
       "    <tr>\n",
       "      <th>29</th>\n",
       "      <td>Colin Trevorrow</td>\n",
       "      <td>652177271.0</td>\n",
       "      <td>Jurassic World</td>\n",
       "    </tr>\n",
       "    <tr>\n",
       "      <th>794</th>\n",
       "      <td>Joss Whedon</td>\n",
       "      <td>623279547.0</td>\n",
       "      <td>The Avengers</td>\n",
       "    </tr>\n",
       "    <tr>\n",
       "      <th>17</th>\n",
       "      <td>Joss Whedon</td>\n",
       "      <td>623279547.0</td>\n",
       "      <td>The Avengers</td>\n",
       "    </tr>\n",
       "    <tr>\n",
       "      <th>66</th>\n",
       "      <td>Christopher Nolan</td>\n",
       "      <td>533316061.0</td>\n",
       "      <td>The Dark Knight</td>\n",
       "    </tr>\n",
       "    <tr>\n",
       "      <th>240</th>\n",
       "      <td>George Lucas</td>\n",
       "      <td>474544677.0</td>\n",
       "      <td>Star Wars: Episode I - The Phantom Menace</td>\n",
       "    </tr>\n",
       "    <tr>\n",
       "      <th>3024</th>\n",
       "      <td>George Lucas</td>\n",
       "      <td>460935665.0</td>\n",
       "      <td>Star Wars: Episode IV - A New Hope</td>\n",
       "    </tr>\n",
       "    <tr>\n",
       "      <th>8</th>\n",
       "      <td>Joss Whedon</td>\n",
       "      <td>458991599.0</td>\n",
       "      <td>Avengers: Age of Ultron</td>\n",
       "    </tr>\n",
       "    <tr>\n",
       "      <th>3</th>\n",
       "      <td>Christopher Nolan</td>\n",
       "      <td>448130642.0</td>\n",
       "      <td>The Dark Knight Rises</td>\n",
       "    </tr>\n",
       "  </tbody>\n",
       "</table>\n",
       "</div>"
      ],
      "text/plain": [
       "          director_name        gross  \\\n",
       "0         James Cameron  760505847.0   \n",
       "26        James Cameron  658672302.0   \n",
       "29      Colin Trevorrow  652177271.0   \n",
       "794         Joss Whedon  623279547.0   \n",
       "17          Joss Whedon  623279547.0   \n",
       "66    Christopher Nolan  533316061.0   \n",
       "240        George Lucas  474544677.0   \n",
       "3024       George Lucas  460935665.0   \n",
       "8           Joss Whedon  458991599.0   \n",
       "3     Christopher Nolan  448130642.0   \n",
       "\n",
       "                                    movie_title  \n",
       "0                                        Avatar  \n",
       "26                                      Titanic  \n",
       "29                               Jurassic World  \n",
       "794                                The Avengers  \n",
       "17                                 The Avengers  \n",
       "66                              The Dark Knight  \n",
       "240   Star Wars: Episode I - The Phantom Menace  \n",
       "3024         Star Wars: Episode IV - A New Hope  \n",
       "8                       Avengers: Age of Ultron  \n",
       "3                         The Dark Knight Rises  "
      ]
     },
     "execution_count": 337,
     "metadata": {},
     "output_type": "execute_result"
    }
   ],
   "source": [
    "top_10_direct_gross = df.sort_values('gross', ascending=False).head(10)[['director_name', 'gross', 'movie_title']]\n",
    "top_10_direct_gross"
   ]
  },
  {
   "cell_type": "code",
   "execution_count": 338,
   "metadata": {},
   "outputs": [
    {
     "data": {
      "text/html": [
       "<div>\n",
       "<style>\n",
       "    .dataframe thead tr:only-child th {\n",
       "        text-align: right;\n",
       "    }\n",
       "\n",
       "    .dataframe thead th {\n",
       "        text-align: left;\n",
       "    }\n",
       "\n",
       "    .dataframe tbody tr th {\n",
       "        vertical-align: top;\n",
       "    }\n",
       "</style>\n",
       "<table border=\"1\" class=\"dataframe\">\n",
       "  <thead>\n",
       "    <tr style=\"text-align: right;\">\n",
       "      <th></th>\n",
       "      <th>director_name</th>\n",
       "      <th>profit</th>\n",
       "      <th>movie_title</th>\n",
       "    </tr>\n",
       "  </thead>\n",
       "  <tbody>\n",
       "    <tr>\n",
       "      <th>0</th>\n",
       "      <td>James Cameron</td>\n",
       "      <td>523505847.0</td>\n",
       "      <td>Avatar</td>\n",
       "    </tr>\n",
       "    <tr>\n",
       "      <th>29</th>\n",
       "      <td>Colin Trevorrow</td>\n",
       "      <td>502177271.0</td>\n",
       "      <td>Jurassic World</td>\n",
       "    </tr>\n",
       "    <tr>\n",
       "      <th>26</th>\n",
       "      <td>James Cameron</td>\n",
       "      <td>458672302.0</td>\n",
       "      <td>Titanic</td>\n",
       "    </tr>\n",
       "    <tr>\n",
       "      <th>3024</th>\n",
       "      <td>George Lucas</td>\n",
       "      <td>449935665.0</td>\n",
       "      <td>Star Wars: Episode IV - A New Hope</td>\n",
       "    </tr>\n",
       "    <tr>\n",
       "      <th>3080</th>\n",
       "      <td>Steven Spielberg</td>\n",
       "      <td>424449459.0</td>\n",
       "      <td>E.T. the Extra-Terrestrial</td>\n",
       "    </tr>\n",
       "    <tr>\n",
       "      <th>17</th>\n",
       "      <td>Joss Whedon</td>\n",
       "      <td>403279547.0</td>\n",
       "      <td>The Avengers</td>\n",
       "    </tr>\n",
       "    <tr>\n",
       "      <th>794</th>\n",
       "      <td>Joss Whedon</td>\n",
       "      <td>403279547.0</td>\n",
       "      <td>The Avengers</td>\n",
       "    </tr>\n",
       "    <tr>\n",
       "      <th>509</th>\n",
       "      <td>Roger Allers</td>\n",
       "      <td>377783777.0</td>\n",
       "      <td>The Lion King</td>\n",
       "    </tr>\n",
       "    <tr>\n",
       "      <th>240</th>\n",
       "      <td>George Lucas</td>\n",
       "      <td>359544677.0</td>\n",
       "      <td>Star Wars: Episode I - The Phantom Menace</td>\n",
       "    </tr>\n",
       "    <tr>\n",
       "      <th>66</th>\n",
       "      <td>Christopher Nolan</td>\n",
       "      <td>348316061.0</td>\n",
       "      <td>The Dark Knight</td>\n",
       "    </tr>\n",
       "  </tbody>\n",
       "</table>\n",
       "</div>"
      ],
      "text/plain": [
       "          director_name       profit  \\\n",
       "0         James Cameron  523505847.0   \n",
       "29      Colin Trevorrow  502177271.0   \n",
       "26        James Cameron  458672302.0   \n",
       "3024       George Lucas  449935665.0   \n",
       "3080   Steven Spielberg  424449459.0   \n",
       "17          Joss Whedon  403279547.0   \n",
       "794         Joss Whedon  403279547.0   \n",
       "509        Roger Allers  377783777.0   \n",
       "240        George Lucas  359544677.0   \n",
       "66    Christopher Nolan  348316061.0   \n",
       "\n",
       "                                    movie_title  \n",
       "0                                        Avatar  \n",
       "29                               Jurassic World  \n",
       "26                                      Titanic  \n",
       "3024         Star Wars: Episode IV - A New Hope  \n",
       "3080                 E.T. the Extra-Terrestrial  \n",
       "17                                 The Avengers  \n",
       "794                                The Avengers  \n",
       "509                               The Lion King  \n",
       "240   Star Wars: Episode I - The Phantom Menace  \n",
       "66                              The Dark Knight  "
      ]
     },
     "execution_count": 338,
     "metadata": {},
     "output_type": "execute_result"
    }
   ],
   "source": [
    "top_10_direct_profit = df.sort_values('profit', ascending=False).head(10)[['director_name', 'profit', 'movie_title']]\n",
    "top_10_direct_profit"
   ]
  },
  {
   "cell_type": "markdown",
   "metadata": {},
   "source": [
    "### ten most successfull actors by rating, gross, profit"
   ]
  },
  {
   "cell_type": "code",
   "execution_count": 343,
   "metadata": {},
   "outputs": [
    {
     "data": {
      "text/html": [
       "<div>\n",
       "<style>\n",
       "    .dataframe thead tr:only-child th {\n",
       "        text-align: right;\n",
       "    }\n",
       "\n",
       "    .dataframe thead th {\n",
       "        text-align: left;\n",
       "    }\n",
       "\n",
       "    .dataframe tbody tr th {\n",
       "        vertical-align: top;\n",
       "    }\n",
       "</style>\n",
       "<table border=\"1\" class=\"dataframe\">\n",
       "  <thead>\n",
       "    <tr style=\"text-align: right;\">\n",
       "      <th></th>\n",
       "      <th>actor_1_name</th>\n",
       "      <th>imdb_score</th>\n",
       "      <th>movie_title</th>\n",
       "    </tr>\n",
       "  </thead>\n",
       "  <tbody>\n",
       "    <tr>\n",
       "      <th>1937</th>\n",
       "      <td>Morgan Freeman</td>\n",
       "      <td>9.3</td>\n",
       "      <td>The Shawshank Redemption</td>\n",
       "    </tr>\n",
       "    <tr>\n",
       "      <th>3466</th>\n",
       "      <td>Al Pacino</td>\n",
       "      <td>9.2</td>\n",
       "      <td>The Godfather</td>\n",
       "    </tr>\n",
       "    <tr>\n",
       "      <th>66</th>\n",
       "      <td>Christian Bale</td>\n",
       "      <td>9.0</td>\n",
       "      <td>The Dark Knight</td>\n",
       "    </tr>\n",
       "    <tr>\n",
       "      <th>2837</th>\n",
       "      <td>Robert De Niro</td>\n",
       "      <td>9.0</td>\n",
       "      <td>The Godfather: Part II</td>\n",
       "    </tr>\n",
       "    <tr>\n",
       "      <th>4498</th>\n",
       "      <td>Clint Eastwood</td>\n",
       "      <td>8.9</td>\n",
       "      <td>The Good, the Bad and the Ugly</td>\n",
       "    </tr>\n",
       "    <tr>\n",
       "      <th>1874</th>\n",
       "      <td>Liam Neeson</td>\n",
       "      <td>8.9</td>\n",
       "      <td>Schindler's List</td>\n",
       "    </tr>\n",
       "    <tr>\n",
       "      <th>339</th>\n",
       "      <td>Orlando Bloom</td>\n",
       "      <td>8.9</td>\n",
       "      <td>The Lord of the Rings: The Return of the King</td>\n",
       "    </tr>\n",
       "    <tr>\n",
       "      <th>3355</th>\n",
       "      <td>Bruce Willis</td>\n",
       "      <td>8.9</td>\n",
       "      <td>Pulp Fiction</td>\n",
       "    </tr>\n",
       "    <tr>\n",
       "      <th>270</th>\n",
       "      <td>Christopher Lee</td>\n",
       "      <td>8.8</td>\n",
       "      <td>The Lord of the Rings: The Fellowship of the Ring</td>\n",
       "    </tr>\n",
       "    <tr>\n",
       "      <th>683</th>\n",
       "      <td>Brad Pitt</td>\n",
       "      <td>8.8</td>\n",
       "      <td>Fight Club</td>\n",
       "    </tr>\n",
       "  </tbody>\n",
       "</table>\n",
       "</div>"
      ],
      "text/plain": [
       "         actor_1_name  imdb_score  \\\n",
       "1937   Morgan Freeman         9.3   \n",
       "3466        Al Pacino         9.2   \n",
       "66     Christian Bale         9.0   \n",
       "2837   Robert De Niro         9.0   \n",
       "4498   Clint Eastwood         8.9   \n",
       "1874      Liam Neeson         8.9   \n",
       "339     Orlando Bloom         8.9   \n",
       "3355     Bruce Willis         8.9   \n",
       "270   Christopher Lee         8.8   \n",
       "683         Brad Pitt         8.8   \n",
       "\n",
       "                                            movie_title  \n",
       "1937                           The Shawshank Redemption  \n",
       "3466                                      The Godfather  \n",
       "66                                      The Dark Knight  \n",
       "2837                             The Godfather: Part II  \n",
       "4498                     The Good, the Bad and the Ugly  \n",
       "1874                                   Schindler's List  \n",
       "339       The Lord of the Rings: The Return of the King  \n",
       "3355                                       Pulp Fiction  \n",
       "270   The Lord of the Rings: The Fellowship of the Ring  \n",
       "683                                          Fight Club  "
      ]
     },
     "execution_count": 343,
     "metadata": {},
     "output_type": "execute_result"
    }
   ],
   "source": [
    "top_10_actor_rating = df.sort_values('imdb_score', ascending=False).head(10)[['actor_1_name', 'imdb_score', 'movie_title']]\n",
    "top_10_actor_rating"
   ]
  },
  {
   "cell_type": "code",
   "execution_count": 344,
   "metadata": {},
   "outputs": [
    {
     "data": {
      "text/html": [
       "<div>\n",
       "<style>\n",
       "    .dataframe thead tr:only-child th {\n",
       "        text-align: right;\n",
       "    }\n",
       "\n",
       "    .dataframe thead th {\n",
       "        text-align: left;\n",
       "    }\n",
       "\n",
       "    .dataframe tbody tr th {\n",
       "        vertical-align: top;\n",
       "    }\n",
       "</style>\n",
       "<table border=\"1\" class=\"dataframe\">\n",
       "  <thead>\n",
       "    <tr style=\"text-align: right;\">\n",
       "      <th></th>\n",
       "      <th>actor_1_name</th>\n",
       "      <th>gross</th>\n",
       "      <th>movie_title</th>\n",
       "    </tr>\n",
       "  </thead>\n",
       "  <tbody>\n",
       "    <tr>\n",
       "      <th>0</th>\n",
       "      <td>CCH Pounder</td>\n",
       "      <td>760505847.0</td>\n",
       "      <td>Avatar</td>\n",
       "    </tr>\n",
       "    <tr>\n",
       "      <th>26</th>\n",
       "      <td>Leonardo DiCaprio</td>\n",
       "      <td>658672302.0</td>\n",
       "      <td>Titanic</td>\n",
       "    </tr>\n",
       "    <tr>\n",
       "      <th>29</th>\n",
       "      <td>Bryce Dallas Howard</td>\n",
       "      <td>652177271.0</td>\n",
       "      <td>Jurassic World</td>\n",
       "    </tr>\n",
       "    <tr>\n",
       "      <th>794</th>\n",
       "      <td>Chris Hemsworth</td>\n",
       "      <td>623279547.0</td>\n",
       "      <td>The Avengers</td>\n",
       "    </tr>\n",
       "    <tr>\n",
       "      <th>17</th>\n",
       "      <td>Chris Hemsworth</td>\n",
       "      <td>623279547.0</td>\n",
       "      <td>The Avengers</td>\n",
       "    </tr>\n",
       "    <tr>\n",
       "      <th>66</th>\n",
       "      <td>Christian Bale</td>\n",
       "      <td>533316061.0</td>\n",
       "      <td>The Dark Knight</td>\n",
       "    </tr>\n",
       "    <tr>\n",
       "      <th>240</th>\n",
       "      <td>Natalie Portman</td>\n",
       "      <td>474544677.0</td>\n",
       "      <td>Star Wars: Episode I - The Phantom Menace</td>\n",
       "    </tr>\n",
       "    <tr>\n",
       "      <th>3024</th>\n",
       "      <td>Harrison Ford</td>\n",
       "      <td>460935665.0</td>\n",
       "      <td>Star Wars: Episode IV - A New Hope</td>\n",
       "    </tr>\n",
       "    <tr>\n",
       "      <th>8</th>\n",
       "      <td>Chris Hemsworth</td>\n",
       "      <td>458991599.0</td>\n",
       "      <td>Avengers: Age of Ultron</td>\n",
       "    </tr>\n",
       "    <tr>\n",
       "      <th>3</th>\n",
       "      <td>Tom Hardy</td>\n",
       "      <td>448130642.0</td>\n",
       "      <td>The Dark Knight Rises</td>\n",
       "    </tr>\n",
       "  </tbody>\n",
       "</table>\n",
       "</div>"
      ],
      "text/plain": [
       "             actor_1_name        gross  \\\n",
       "0             CCH Pounder  760505847.0   \n",
       "26      Leonardo DiCaprio  658672302.0   \n",
       "29    Bryce Dallas Howard  652177271.0   \n",
       "794       Chris Hemsworth  623279547.0   \n",
       "17        Chris Hemsworth  623279547.0   \n",
       "66         Christian Bale  533316061.0   \n",
       "240       Natalie Portman  474544677.0   \n",
       "3024        Harrison Ford  460935665.0   \n",
       "8         Chris Hemsworth  458991599.0   \n",
       "3               Tom Hardy  448130642.0   \n",
       "\n",
       "                                    movie_title  \n",
       "0                                        Avatar  \n",
       "26                                      Titanic  \n",
       "29                               Jurassic World  \n",
       "794                                The Avengers  \n",
       "17                                 The Avengers  \n",
       "66                              The Dark Knight  \n",
       "240   Star Wars: Episode I - The Phantom Menace  \n",
       "3024         Star Wars: Episode IV - A New Hope  \n",
       "8                       Avengers: Age of Ultron  \n",
       "3                         The Dark Knight Rises  "
      ]
     },
     "execution_count": 344,
     "metadata": {},
     "output_type": "execute_result"
    }
   ],
   "source": [
    "top_10_actor_gross = df.sort_values('gross', ascending=False).head(10)[['actor_1_name', 'gross', 'movie_title']]\n",
    "top_10_actor_gross"
   ]
  },
  {
   "cell_type": "code",
   "execution_count": 345,
   "metadata": {},
   "outputs": [
    {
     "data": {
      "text/html": [
       "<div>\n",
       "<style>\n",
       "    .dataframe thead tr:only-child th {\n",
       "        text-align: right;\n",
       "    }\n",
       "\n",
       "    .dataframe thead th {\n",
       "        text-align: left;\n",
       "    }\n",
       "\n",
       "    .dataframe tbody tr th {\n",
       "        vertical-align: top;\n",
       "    }\n",
       "</style>\n",
       "<table border=\"1\" class=\"dataframe\">\n",
       "  <thead>\n",
       "    <tr style=\"text-align: right;\">\n",
       "      <th></th>\n",
       "      <th>actor_1_name</th>\n",
       "      <th>profit</th>\n",
       "      <th>movie_title</th>\n",
       "    </tr>\n",
       "  </thead>\n",
       "  <tbody>\n",
       "    <tr>\n",
       "      <th>0</th>\n",
       "      <td>CCH Pounder</td>\n",
       "      <td>523505847.0</td>\n",
       "      <td>Avatar</td>\n",
       "    </tr>\n",
       "    <tr>\n",
       "      <th>29</th>\n",
       "      <td>Bryce Dallas Howard</td>\n",
       "      <td>502177271.0</td>\n",
       "      <td>Jurassic World</td>\n",
       "    </tr>\n",
       "    <tr>\n",
       "      <th>26</th>\n",
       "      <td>Leonardo DiCaprio</td>\n",
       "      <td>458672302.0</td>\n",
       "      <td>Titanic</td>\n",
       "    </tr>\n",
       "    <tr>\n",
       "      <th>3024</th>\n",
       "      <td>Harrison Ford</td>\n",
       "      <td>449935665.0</td>\n",
       "      <td>Star Wars: Episode IV - A New Hope</td>\n",
       "    </tr>\n",
       "    <tr>\n",
       "      <th>3080</th>\n",
       "      <td>Henry Thomas</td>\n",
       "      <td>424449459.0</td>\n",
       "      <td>E.T. the Extra-Terrestrial</td>\n",
       "    </tr>\n",
       "    <tr>\n",
       "      <th>17</th>\n",
       "      <td>Chris Hemsworth</td>\n",
       "      <td>403279547.0</td>\n",
       "      <td>The Avengers</td>\n",
       "    </tr>\n",
       "    <tr>\n",
       "      <th>794</th>\n",
       "      <td>Chris Hemsworth</td>\n",
       "      <td>403279547.0</td>\n",
       "      <td>The Avengers</td>\n",
       "    </tr>\n",
       "    <tr>\n",
       "      <th>509</th>\n",
       "      <td>Matthew Broderick</td>\n",
       "      <td>377783777.0</td>\n",
       "      <td>The Lion King</td>\n",
       "    </tr>\n",
       "    <tr>\n",
       "      <th>240</th>\n",
       "      <td>Natalie Portman</td>\n",
       "      <td>359544677.0</td>\n",
       "      <td>Star Wars: Episode I - The Phantom Menace</td>\n",
       "    </tr>\n",
       "    <tr>\n",
       "      <th>66</th>\n",
       "      <td>Christian Bale</td>\n",
       "      <td>348316061.0</td>\n",
       "      <td>The Dark Knight</td>\n",
       "    </tr>\n",
       "  </tbody>\n",
       "</table>\n",
       "</div>"
      ],
      "text/plain": [
       "             actor_1_name       profit  \\\n",
       "0             CCH Pounder  523505847.0   \n",
       "29    Bryce Dallas Howard  502177271.0   \n",
       "26      Leonardo DiCaprio  458672302.0   \n",
       "3024        Harrison Ford  449935665.0   \n",
       "3080         Henry Thomas  424449459.0   \n",
       "17        Chris Hemsworth  403279547.0   \n",
       "794       Chris Hemsworth  403279547.0   \n",
       "509     Matthew Broderick  377783777.0   \n",
       "240       Natalie Portman  359544677.0   \n",
       "66         Christian Bale  348316061.0   \n",
       "\n",
       "                                    movie_title  \n",
       "0                                        Avatar  \n",
       "29                               Jurassic World  \n",
       "26                                      Titanic  \n",
       "3024         Star Wars: Episode IV - A New Hope  \n",
       "3080                 E.T. the Extra-Terrestrial  \n",
       "17                                 The Avengers  \n",
       "794                                The Avengers  \n",
       "509                               The Lion King  \n",
       "240   Star Wars: Episode I - The Phantom Menace  \n",
       "66                              The Dark Knight  "
      ]
     },
     "execution_count": 345,
     "metadata": {},
     "output_type": "execute_result"
    }
   ],
   "source": [
    "top_10_actor_profit = df.sort_values('profit', ascending=False).head(10)[['actor_1_name', 'profit', 'movie_title']]\n",
    "top_10_actor_profit"
   ]
  },
  {
   "cell_type": "code",
   "execution_count": 378,
   "metadata": {},
   "outputs": [
    {
     "data": {
      "text/html": [
       "<div>\n",
       "<style>\n",
       "    .dataframe thead tr:only-child th {\n",
       "        text-align: right;\n",
       "    }\n",
       "\n",
       "    .dataframe thead th {\n",
       "        text-align: left;\n",
       "    }\n",
       "\n",
       "    .dataframe tbody tr th {\n",
       "        vertical-align: top;\n",
       "    }\n",
       "</style>\n",
       "<table border=\"1\" class=\"dataframe\">\n",
       "  <thead>\n",
       "    <tr style=\"text-align: right;\">\n",
       "      <th></th>\n",
       "      <th>CategoricalYears</th>\n",
       "      <th>gross</th>\n",
       "      <th>imdb_score</th>\n",
       "    </tr>\n",
       "  </thead>\n",
       "  <tbody>\n",
       "    <tr>\n",
       "      <th>0</th>\n",
       "      <td>(1926.911, 1935.9]</td>\n",
       "      <td>1.513218e+06</td>\n",
       "      <td>8.050000</td>\n",
       "    </tr>\n",
       "    <tr>\n",
       "      <th>1</th>\n",
       "      <td>(1935.9, 1944.8]</td>\n",
       "      <td>9.563482e+07</td>\n",
       "      <td>7.900000</td>\n",
       "    </tr>\n",
       "    <tr>\n",
       "      <th>2</th>\n",
       "      <td>(1944.8, 1953.7]</td>\n",
       "      <td>1.988598e+07</td>\n",
       "      <td>7.500000</td>\n",
       "    </tr>\n",
       "    <tr>\n",
       "      <th>3</th>\n",
       "      <td>(1953.7, 1962.6]</td>\n",
       "      <td>1.997326e+07</td>\n",
       "      <td>8.150000</td>\n",
       "    </tr>\n",
       "    <tr>\n",
       "      <th>4</th>\n",
       "      <td>(1962.6, 1971.5]</td>\n",
       "      <td>5.077265e+07</td>\n",
       "      <td>7.671429</td>\n",
       "    </tr>\n",
       "    <tr>\n",
       "      <th>5</th>\n",
       "      <td>(1971.5, 1980.4]</td>\n",
       "      <td>8.281679e+07</td>\n",
       "      <td>7.541176</td>\n",
       "    </tr>\n",
       "    <tr>\n",
       "      <th>6</th>\n",
       "      <td>(1980.4, 1989.3]</td>\n",
       "      <td>5.759620e+07</td>\n",
       "      <td>6.850847</td>\n",
       "    </tr>\n",
       "    <tr>\n",
       "      <th>7</th>\n",
       "      <td>(1989.3, 1998.2]</td>\n",
       "      <td>5.663432e+07</td>\n",
       "      <td>6.672505</td>\n",
       "    </tr>\n",
       "    <tr>\n",
       "      <th>8</th>\n",
       "      <td>(1998.2, 2007.1]</td>\n",
       "      <td>4.990434e+07</td>\n",
       "      <td>6.437803</td>\n",
       "    </tr>\n",
       "    <tr>\n",
       "      <th>9</th>\n",
       "      <td>(2007.1, 2016.0]</td>\n",
       "      <td>6.226332e+07</td>\n",
       "      <td>6.488658</td>\n",
       "    </tr>\n",
       "  </tbody>\n",
       "</table>\n",
       "</div>"
      ],
      "text/plain": [
       "     CategoricalYears         gross  imdb_score\n",
       "0  (1926.911, 1935.9]  1.513218e+06    8.050000\n",
       "1    (1935.9, 1944.8]  9.563482e+07    7.900000\n",
       "2    (1944.8, 1953.7]  1.988598e+07    7.500000\n",
       "3    (1953.7, 1962.6]  1.997326e+07    8.150000\n",
       "4    (1962.6, 1971.5]  5.077265e+07    7.671429\n",
       "5    (1971.5, 1980.4]  8.281679e+07    7.541176\n",
       "6    (1980.4, 1989.3]  5.759620e+07    6.850847\n",
       "7    (1989.3, 1998.2]  5.663432e+07    6.672505\n",
       "8    (1998.2, 2007.1]  4.990434e+07    6.437803\n",
       "9    (2007.1, 2016.0]  6.226332e+07    6.488658"
      ]
     },
     "execution_count": 378,
     "metadata": {},
     "output_type": "execute_result"
    }
   ],
   "source": [
    "df.groupby([df.CategoricalYears]).agg({'gross':'mean', 'imdb_score': 'mean'})[['gross', 'imdb_score']].reset_index()\n"
   ]
  },
  {
   "cell_type": "markdown",
   "metadata": {},
   "source": [
    "### five most common co-works of director and actor"
   ]
  },
  {
   "cell_type": "code",
   "execution_count": 413,
   "metadata": {},
   "outputs": [
    {
     "data": {
      "text/plain": [
       "director_name   actor_1_name  \n",
       "Clint Eastwood  Clint Eastwood    9\n",
       "Tim Burton      Johnny Depp       7\n",
       "Woody Allen     Woody Allen       7\n",
       "Gore Verbinski  Johnny Depp       5\n",
       "Jason Reitman   J.K. Simmons      5\n",
       "dtype: int64"
      ]
     },
     "execution_count": 413,
     "metadata": {},
     "output_type": "execute_result"
    }
   ],
   "source": [
    "df.groupby(['director_name', 'actor_1_name']).size().nlargest(5)"
   ]
  },
  {
   "cell_type": "markdown",
   "metadata": {},
   "source": [
    "### Average ratings for most frequent director/actor co-works"
   ]
  },
  {
   "cell_type": "code",
   "execution_count": 457,
   "metadata": {},
   "outputs": [
    {
     "name": "stdout",
     "output_type": "stream",
     "text": [
      "average rating for director/actor co-work (Clint Eastwood, Clint Eastwood) is: 7.2\n",
      "average rating for director/actor co-work (Tim Burton, Johnny Depp) is: 7.01\n",
      "average rating for director/actor co-work (Woody Allen, Woody Allen) is: 6.91\n",
      "average rating for director/actor co-work (Gore Verbinski  Johnny Depp) is: 7.24\n",
      "average rating for director/actor co-work (Jason Reitman  J.K. Simmons) is: 7.38\n"
     ]
    }
   ],
   "source": [
    "# average rating for director/actor co-work (Clint Eastwood, Clint Eastwood) is: 7.2\n",
    "print('average rating for director/actor co-work (Clint Eastwood, Clint Eastwood) is:', np.round(df.loc[(df.director_name == 'Clint Eastwood') & (df.actor_1_name == 'Clint Eastwood')]['imdb_score'].mean(), 2))\n",
    "\n",
    "# average rating for director/actor co-work (Tim Burton, Johnny Depp) is: 7.01\n",
    "print('average rating for director/actor co-work (Tim Burton, Johnny Depp) is:', np.round(df.loc[(df.director_name == 'Tim Burton') & (df.actor_1_name == 'Johnny Depp')]['imdb_score'].mean(), 2))\n",
    "\n",
    "# average rating for director/actor co-work (Woody Allen, Woody Allen) is: 6.91\n",
    "print('average rating for director/actor co-work (Woody Allen, Woody Allen) is:', np.round(df.loc[(df.director_name == 'Woody Allen') & (df.actor_1_name == 'Woody Allen')]['imdb_score'].mean(), 2))\n",
    "\n",
    "# average rating for director/actor co-work (Gore Verbinski  Johnny Depp) is: 7.24\n",
    "print('average rating for director/actor co-work (Gore Verbinski  Johnny Depp) is:', np.round(df.loc[(df.director_name == 'Gore Verbinski') & (df.actor_1_name == 'Johnny Depp')]['imdb_score'].mean(), 2))\n",
    "\n",
    "# average rating for director/actor co-work (Jason Reitman  J.K. Simmons) is: 7.38\n",
    "print('average rating for director/actor co-work (Jason Reitman  J.K. Simmons) is:', np.round(df.loc[(df.director_name == 'Jason Reitman') & (df.actor_1_name == 'J.K. Simmons')]['imdb_score'].mean(), 2))"
   ]
  },
  {
   "cell_type": "markdown",
   "metadata": {},
   "source": [
    "### five most common co-works of actor and actor"
   ]
  },
  {
   "cell_type": "code",
   "execution_count": 412,
   "metadata": {},
   "outputs": [
    {
     "data": {
      "text/plain": [
       "actor_1_name      actor_2_name    \n",
       "Steve Buscemi     Adam Sandler        6\n",
       "J.K. Simmons      James Franco        4\n",
       "Leonard Nimoy     Nichelle Nichols    4\n",
       "Paul Walker       Vin Diesel          4\n",
       "Robert Pattinson  Kristen Stewart     4\n",
       "dtype: int64"
      ]
     },
     "execution_count": 412,
     "metadata": {},
     "output_type": "execute_result"
    }
   ],
   "source": [
    "df.groupby(['actor_1_name', 'actor_2_name']).size().nlargest(5)"
   ]
  },
  {
   "cell_type": "markdown",
   "metadata": {},
   "source": [
    "### Average ratings for most frequent actor1/actor2 co-works"
   ]
  },
  {
   "cell_type": "code",
   "execution_count": 456,
   "metadata": {},
   "outputs": [
    {
     "name": "stdout",
     "output_type": "stream",
     "text": [
      "average rating for director/actor co-work (Steve Buscemi, Adam Sandler) is: 6.23\n",
      "average rating for director/actor co-work (J.K. Simmons, James Franco) is: 6.75\n",
      "average rating for director/actor co-work (Leonard Nimoy, Nichelle Nichols) is: 6.43\n",
      "average rating for director/actor co-work (Paul Walker, Vin Diesel) is: 6.85\n",
      "average rating for director/actor co-work (Robert Pattison, Kristen Stewart) is: 5.12\n"
     ]
    }
   ],
   "source": [
    "# average rating for actor1/actor2 co-work (Steve Buscemi, Adam Sandler) is: 6.23\n",
    "print('average rating for director/actor co-work (Steve Buscemi, Adam Sandler) is:', np.round(df.loc[(df.actor_1_name == 'Steve Buscemi') & (df.actor_2_name == 'Adam Sandler')]['imdb_score'].mean(), 2))\n",
    "\n",
    "# average rating for actor1/actor2 co-work (J.K. Simmons, James Franco) is: 6.75\n",
    "print('average rating for director/actor co-work (J.K. Simmons, James Franco) is:', np.round(df.loc[(df.actor_1_name == 'J.K. Simmons') & (df.actor_2_name == 'James Franco')]['imdb_score'].mean(), 2))\n",
    "\n",
    "# average rating for actor1/actor2 co-work (Leonard Nimoy, Nichelle Nichols) is: 6.43\n",
    "print('average rating for director/actor co-work (Leonard Nimoy, Nichelle Nichols) is:', np.round(df.loc[(df.actor_1_name == 'Leonard Nimoy') & (df.actor_2_name == 'Nichelle Nichols')]['imdb_score'].mean(), 2))\n",
    "\n",
    "# average rating for actor1/actor2 co-work (Paul Walker, Vin Diesel) is: 6.85\n",
    "print('average rating for director/actor co-work (Paul Walker, Vin Diesel) is:', np.round(df.loc[(df.actor_1_name == 'Paul Walker') & (df.actor_2_name == 'Vin Diesel')]['imdb_score'].mean(), 2))\n",
    "\n",
    "# average rating for actor1/actor2 co-work (Robert Pattison, Kristen Stewart) is: 5.12\n",
    "print('average rating for director/actor co-work (Robert Pattison, Kristen Stewart) is:', np.round(df.loc[(df.actor_1_name == 'Robert Pattinson') & (df.actor_2_name == 'Kristen Stewart')]['imdb_score'].mean(), 2))"
   ]
  }
 ],
 "metadata": {
  "kernelspec": {
   "display_name": "Python 3",
   "language": "python",
   "name": "python3"
  },
  "language_info": {
   "codemirror_mode": {
    "name": "ipython",
    "version": 3
   },
   "file_extension": ".py",
   "mimetype": "text/x-python",
   "name": "python",
   "nbconvert_exporter": "python",
   "pygments_lexer": "ipython3",
   "version": "3.6.1"
  }
 },
 "nbformat": 4,
 "nbformat_minor": 2
}
